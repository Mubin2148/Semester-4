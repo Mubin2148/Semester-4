{
 "cells": [
  {
   "cell_type": "markdown",
   "metadata": {},
   "source": [
    "\n",
    "<a href='https://www.darshan.ac.in/'> <img src='https://www.darshan.ac.in/Content/media/DU_Logo.svg' width=\"250\" height=\"300\"/></a>\n",
    "<pre>\n",
    "<center><b><h1>Python Programming - 2101CS405</b></center>\n",
    "<center><b><h1>Lab - 2</b></center>    \n",
    "<pre>"
   ]
  },
  {
   "cell_type": "markdown",
   "metadata": {},
   "source": [
    "# if..else.."
   ]
  },
  {
   "cell_type": "markdown",
   "metadata": {},
   "source": [
    "### 01) WAP to check whether the given number is positive or negative."
   ]
  },
  {
   "cell_type": "code",
   "execution_count": 3,
   "metadata": {},
   "outputs": [
    {
     "name": "stdout",
     "output_type": "stream",
     "text": [
      "enter the number :0\n",
      "it's Zero\n"
     ]
    }
   ],
   "source": [
    "n= int(input(\"enter the number :\"))\n",
    "if(n>0):\n",
    "    print(\"positive\")\n",
    "elif(n==0):\n",
    "    print(\"it's Zero\")\n",
    "else:\n",
    "    print(\"negative\")"
   ]
  },
  {
   "cell_type": "markdown",
   "metadata": {},
   "source": [
    "### 02) WAP to check whether the given number is odd or even"
   ]
  },
  {
   "cell_type": "code",
   "execution_count": 6,
   "metadata": {},
   "outputs": [
    {
     "name": "stdout",
     "output_type": "stream",
     "text": [
      "enter the number :2\n",
      "2 is even\n"
     ]
    }
   ],
   "source": [
    "n= int(input(\"enter the number :\"))\n",
    "if(n%2==0):\n",
    "    print(n,\"is even\")\n",
    "else:\n",
    "    print(n,\"is odd\")"
   ]
  },
  {
   "cell_type": "markdown",
   "metadata": {},
   "source": [
    "### 03) WAP to find out largest number from given two numbers using simple if and ternary operator."
   ]
  },
  {
   "cell_type": "code",
   "execution_count": 8,
   "metadata": {},
   "outputs": [
    {
     "name": "stdout",
     "output_type": "stream",
     "text": [
      "enter the number 1 :1\n",
      "enter the number 2 :1\n",
      "both are equal\n"
     ]
    }
   ],
   "source": [
    "n1= int(input(\"enter the number 1 :\"))\n",
    "n2 = int(input(\"enter the number 2 :\"))\n",
    "if(n1>n2):\n",
    "    print(n1,\"is largest\")\n",
    "elif(n1==n2):\n",
    "    print(\"both are equal\")\n",
    "else:\n",
    "    print(n2,\"is largest\")"
   ]
  },
  {
   "cell_type": "code",
   "execution_count": 10,
   "metadata": {},
   "outputs": [
    {
     "name": "stdout",
     "output_type": "stream",
     "text": [
      "enter the number 1 :12\n",
      "enter the number 2 :23\n",
      "largest number is : 23\n"
     ]
    }
   ],
   "source": [
    "n1= int(input(\"enter the number 1 :\"))\n",
    "n2 = int(input(\"enter the number 2 :\"))\n",
    "t=n1 if(n1>n2) else n2\n",
    "print(\"largest number is :\",t)"
   ]
  },
  {
   "cell_type": "markdown",
   "metadata": {},
   "source": [
    "### 04) WAP to find out largest number from given three numbers."
   ]
  },
  {
   "cell_type": "code",
   "execution_count": 16,
   "metadata": {},
   "outputs": [
    {
     "name": "stdout",
     "output_type": "stream",
     "text": [
      "enter the number1 :45\n",
      "enter the number2 :12\n",
      "enter the number3 :9\n",
      "45 is largest\n"
     ]
    }
   ],
   "source": [
    "n1=int(input(\"enter the number1 :\"))\n",
    "n2=int(input(\"enter the number2 :\"))\n",
    "n3=int(input(\"enter the number3 :\"))\n",
    "\n",
    "if(n1>n2):\n",
    "    if(n1>n3):\n",
    "        print(n1,\"is largest\")\n",
    "    else:\n",
    "        print(n3,\"is largest\")\n",
    "elif(n2>n1):\n",
    "    if(n2>n3):\n",
    "        print(n2,\"is largest\")\n",
    "    else:\n",
    "        print(n3,\"is largest\")\n",
    "elif(n3>n1):\n",
    "    if(n3>n1):\n",
    "        print(n3,\"is largest\")\n",
    "    else:\n",
    "        print(n1,\"is largest\")\n",
    "    \n"
   ]
  },
  {
   "cell_type": "markdown",
   "metadata": {},
   "source": [
    "### 05) WAP to check whether the given year is leap year or not.\n",
    "[If a year can be divisible by 4 but not divisible by 100 then it is leap year but if it is divisible by 400 then it is leap year]"
   ]
  },
  {
   "cell_type": "code",
   "execution_count": 5,
   "metadata": {},
   "outputs": [
    {
     "name": "stdout",
     "output_type": "stream",
     "text": [
      "enter the year :3000\n",
      "It is not a leap year\n"
     ]
    }
   ],
   "source": [
    "year = int(input(\"enter the year :\"))\n",
    "if(year%4==0):\n",
    "    if(year%100==0):\n",
    "        if(year%400==0):\n",
    "            print(\"It's a leap year\")\n",
    "        else:\n",
    "            print(\"It is not a leap year\")\n",
    "    else:\n",
    "        print(\"It's a leap year\")\n",
    "else:\n",
    "    print(\"it is not a leap year\")\n",
    "    "
   ]
  },
  {
   "cell_type": "markdown",
   "metadata": {},
   "source": [
    "### 06) WAP in python to display the name of the day according to the number given by the user"
   ]
  },
  {
   "cell_type": "code",
   "execution_count": 11,
   "metadata": {},
   "outputs": [
    {
     "name": "stdout",
     "output_type": "stream",
     "text": [
      "enter the number between 1 to 7 :2\n",
      "Tuesday\n"
     ]
    }
   ],
   "source": [
    "Day = int(input(\"enter the number between 1 to 7 :\"))\n",
    "if(Day == 1):\n",
    "    print(\"Monday\")\n",
    "elif(Day == 2):\n",
    "    print(\"Tuesday\")\n",
    "elif(Day == 3):\n",
    "    print(\"Wednesday\")\n",
    "elif(Day == 4):\n",
    "    print(\"Thursday\")\n",
    "elif(Day == 5):\n",
    "    print(\"Friday\")\n",
    "elif(Day == 6):\n",
    "    print(\"Saturday\")\n",
    "elif(Day == 7):\n",
    "    print(\"Sunday\")\n",
    "else:\n",
    "    print(\"please enter a valid number\")\n"
   ]
  },
  {
   "cell_type": "markdown",
   "metadata": {},
   "source": [
    "### 07) WAP to implement simple calculator which performs (add,sub,mul,div) of two no. based on user input."
   ]
  },
  {
   "cell_type": "code",
   "execution_count": 14,
   "metadata": {},
   "outputs": [
    {
     "name": "stdout",
     "output_type": "stream",
     "text": [
      "enter the number1 :23\n",
      "enter the number2 :12\n",
      "enter add for addition\n",
      "enter sub for substraction\n",
      "enter mul for multiplication\n",
      "enter div for division\n",
      "enter the operation :vd\n",
      "enter the valid operation\n"
     ]
    }
   ],
   "source": [
    "n1 = float(input(\"enter the number1 :\"))\n",
    "n2 = float(input(\"enter the number2 :\"))\n",
    "\n",
    "print(\"enter add for addition\")\n",
    "print(\"enter sub for substraction\")\n",
    "print(\"enter mul for multiplication\")\n",
    "print(\"enter div for division\")\n",
    "\n",
    "operation = input(\"enter the operation :\")\n",
    "\n",
    "if(operation == \"add\"):\n",
    "    print(\"additon is :\",n1+n2)\n",
    "elif(operation == \"sub\"):\n",
    "    print(\"substraction is :\",n1-n2)\n",
    "elif(operation == \"mul\"):\n",
    "    print(\"multiplication is :\",n1*n2)\n",
    "elif(operation == \"div\"):\n",
    "    print(\"division is :\",n1/n2)\n",
    "else:\n",
    "    print(\"enter the valid operation\")"
   ]
  },
  {
   "cell_type": "markdown",
   "metadata": {},
   "source": [
    "### 08) WAP to calculate electricity bill based on following criteria. Which takes the unit from the user.\n",
    "a. First 1 to 50 units – Rs. 2.60/unit</br>\n",
    "b. Next 50 to 100 units – Rs. 3.25/unit</br>\n",
    "c. Next 100 to 200 units – Rs. 5.26/unit</br>\n",
    "d. above 200 units – Rs. 8.45/unit"
   ]
  },
  {
   "cell_type": "code",
   "execution_count": 17,
   "metadata": {},
   "outputs": [
    {
     "name": "stdout",
     "output_type": "stream",
     "text": [
      "enter the unit :341\n",
      "the bill amount is : 2009.9499999999998\n"
     ]
    }
   ],
   "source": [
    "unit = float(input(\"enter the unit :\"))\n",
    "bill_amount = 0;\n",
    "if(unit<=50):\n",
    "    bill_amount =unit*2.60\n",
    "elif(unit>50 and unit<=100):\n",
    "    v1=unit-50\n",
    "    bill_amount = (50*2.60)+(v1*3.25)\n",
    "elif(unit>100 and unit<=200):\n",
    "    v1=unit- 100\n",
    "    bill_amount = (50*2.60)+(50*3.25)+(v1*5.26)\n",
    "else:\n",
    "    v1 = unit-200\n",
    "    bill_amount= (50*2.60)+(50*3.25)+(100*5.26)+(v1*8.45)\n",
    "print(\"the bill amount is :\",bill_amount)"
   ]
  },
  {
   "cell_type": "markdown",
   "metadata": {},
   "source": [
    "### 01) WAP to read marks of five subjects. Calculate percentage and print class accordingly. \n",
    "Fail below 35 </br>\n",
    "Pass Class between 35 to 45 </br>\n",
    "Second Class</br>\n",
    "between 45 to 60</br>\n",
    "First Class between 60 to 70</br> \n",
    "Distinction if more than 70"
   ]
  },
  {
   "cell_type": "code",
   "execution_count": 18,
   "metadata": {},
   "outputs": [
    {
     "name": "stdout",
     "output_type": "stream",
     "text": [
      "enter the marks of subject 1 out of 100 :23\n",
      "enter the marks of subject 2 out of 100 :78\n",
      "enter the marks of subject 3 out of 100 :90\n",
      "enter the marks of subject 4 out of 100 :56\n",
      "enter the marks of subject 5 out of 100 :89\n",
      "First class\n"
     ]
    }
   ],
   "source": [
    "s1 = float(input(\"enter the marks of subject 1 out of 100 :\"))\n",
    "s2 = float(input(\"enter the marks of subject 2 out of 100 :\"))\n",
    "s3 = float(input(\"enter the marks of subject 3 out of 100 :\"))\n",
    "s4 = float(input(\"enter the marks of subject 4 out of 100 :\"))\n",
    "s5 = float(input(\"enter the marks of subject 5 out of 100 :\"))\n",
    "\n",
    "percent = (s1+s2+s3+s4+s5)/5\n",
    "\n",
    "if(percent<35):\n",
    "    print(\"Fail\")\n",
    "elif(percent>=35 and percent<45):\n",
    "    print(\"pass\")\n",
    "elif(percent>=45 and percent<60):\n",
    "    print(\"Second class\")\n",
    "elif(percent>=60 and percent<70):\n",
    "    print(\"First class\")\n",
    "else:\n",
    "    print(\"Distiction\")\n",
    "\n"
   ]
  },
  {
   "cell_type": "markdown",
   "metadata": {},
   "source": [
    "### 02) WAP to find out the Maximum and Minimum number from given 4 numbers."
   ]
  },
  {
   "cell_type": "code",
   "execution_count": 6,
   "metadata": {},
   "outputs": [
    {
     "name": "stdout",
     "output_type": "stream",
     "text": [
      "enter the number 1 :2\n",
      "enter the number 2 :3\n",
      "enter the number 3 :45\n",
      "enter the number 4 :1\n",
      "enter min or max :min\n",
      "1.0 is Smallest\n"
     ]
    }
   ],
   "source": [
    "n1 = float(input(\"enter the number 1 :\"))\n",
    "n2 = float(input(\"enter the number 2 :\"))\n",
    "n3 = float(input(\"enter the number 3 :\"))\n",
    "n4 = float(input(\"enter the number 4 :\"))\n",
    "\n",
    "operation = input(\"enter min or max :\")\n",
    "\n",
    "if(operation==\"max\"):\n",
    "    if(n1>=n2 and n1>=n3 and n1>=n4):\n",
    "        print(n1 ,\"is largest\")\n",
    "    elif(n2>=n1 and n2>=n3 and n2>=n4):\n",
    "        print(n2 ,\"is largest\")\n",
    "    elif(n3>=n1 and n3>=n2 and n3>=n4):\n",
    "        print(n3 ,\"is largest\")\n",
    "    else:\n",
    "        print(n4 ,\"is largest\")\n",
    "        \n",
    "elif(operation==\"min\"):\n",
    "    if(n1<=n2 and n1<=n3 and n1<=n4):\n",
    "        print(n1 ,\"is Smallest\")\n",
    "    elif(n2<=n1 and n2<=n3 and n2<=n4):\n",
    "        print(n2 ,\"is Smallest\")\n",
    "    elif(n3<=n1 and n3<=n2 and n3<=n4):\n",
    "        print(n3 ,\"is Smallest\")\n",
    "    else:\n",
    "        print(n4 ,\"is Smallest\")\n",
    "else:\n",
    "    print(\"enter the valid operation\")"
   ]
  },
  {
   "cell_type": "markdown",
   "metadata": {},
   "source": [
    "### 03) WAP to input an integer number and check the last digit of number is even or odd."
   ]
  },
  {
   "cell_type": "code",
   "execution_count": 2,
   "metadata": {},
   "outputs": [
    {
     "name": "stdout",
     "output_type": "stream",
     "text": [
      "enter the integer number :100\n",
      "the last digit is even\n"
     ]
    }
   ],
   "source": [
    "n = int(input(\"enter the integer number :\"))\n",
    "if(n%2==0):\n",
    "    print(\"the last digit is even\")\n",
    "else:\n",
    "    print(\"the last digit is odd\")"
   ]
  },
  {
   "cell_type": "markdown",
   "metadata": {},
   "source": [
    "### 04) WAP to determine the roots of the equation ax2+bx+c=0."
   ]
  },
  {
   "cell_type": "code",
   "execution_count": 10,
   "metadata": {},
   "outputs": [
    {
     "name": "stdout",
     "output_type": "stream",
     "text": [
      "Enter the a :2\n",
      "Enter the b :1\n",
      "Enter the c :1\n",
      "roots are : (-0.9999999999999999+2.6457513110645907j) , (-1.0000000000000002-2.6457513110645907j)\n"
     ]
    }
   ],
   "source": [
    "a = int(input(\"Enter the a :\"))\n",
    "b = int(input(\"Enter the b :\"))\n",
    "c = int(input(\"Enter the c :\"))\n",
    "\n",
    "root1 = ((-b)+((b*b)-4*a*c)**(0.5))/2*a\n",
    "root2 =  ((-b)-((b*b)-4*a*c)**(0.5))/2*a\n",
    "print(\"roots are :\",root1,\",\",root2)"
   ]
  }
 ],
 "metadata": {
  "kernelspec": {
   "display_name": "Python 3 (ipykernel)",
   "language": "python",
   "name": "python3"
  },
  "language_info": {
   "codemirror_mode": {
    "name": "ipython",
    "version": 3
   },
   "file_extension": ".py",
   "mimetype": "text/x-python",
   "name": "python",
   "nbconvert_exporter": "python",
   "pygments_lexer": "ipython3",
   "version": "3.9.12"
  }
 },
 "nbformat": 4,
 "nbformat_minor": 4
}
