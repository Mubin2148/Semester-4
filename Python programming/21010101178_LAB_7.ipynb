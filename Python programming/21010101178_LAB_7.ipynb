{
 "cells": [
  {
   "cell_type": "markdown",
   "metadata": {},
   "source": [
    "<a href='https://www.darshan.ac.in/'> <img src='https://www.darshan.ac.in/Content/media/DU_Logo.svg' width=\"250\" height=\"300\"/></a>\n",
    "<pre>\n",
    "<center><b><h1>Python Programming - 2101CS405</b></center>\n",
    "<center><b><h1>Lab - 7</b></center>    \n",
    "<pre>"
   ]
  },
  {
   "cell_type": "markdown",
   "metadata": {},
   "source": [
    "# Functions"
   ]
  },
  {
   "cell_type": "markdown",
   "metadata": {},
   "source": [
    "### 01) WAP to count simple interest using function."
   ]
  },
  {
   "cell_type": "code",
   "execution_count": 1,
   "metadata": {},
   "outputs": [
    {
     "name": "stdout",
     "output_type": "stream",
     "text": [
      "Enter the amount :2000\n",
      "Enter the rate of interest :2\n",
      "Enter the time duration :3\n",
      "the interest is : 120.0\n"
     ]
    }
   ],
   "source": [
    "def SimpleInterest(p,r,n):\n",
    "    interest = (p*r*n)/100  \n",
    "    print(\"the interest is :\",interest)\n",
    "p = int(input(\"Enter the amount :\"))\n",
    "r = int(input(\"Enter the rate of interest :\"))\n",
    "n = int(input(\"Enter the time duration :\"))\n",
    "SimpleInterest(p,r,n)"
   ]
  },
  {
   "cell_type": "markdown",
   "metadata": {},
   "source": [
    "### 02) WAP that defines a function to add first n numbers."
   ]
  },
  {
   "cell_type": "code",
   "execution_count": 22,
   "metadata": {},
   "outputs": [
    {
     "name": "stdout",
     "output_type": "stream",
     "text": [
      "The sum is : 57\n",
      "The sum is : 290\n"
     ]
    }
   ],
   "source": [
    "def AddNNumbers(*a):\n",
    "    sum = 0\n",
    "    for i in a:\n",
    "        sum += i\n",
    "    print(\"The sum is :\",sum)\n",
    "AddNNumbers(2,4,6,45)\n",
    "AddNNumbers(2,4,6,34,12,232,)\n",
    "    "
   ]
  },
  {
   "cell_type": "markdown",
   "metadata": {},
   "source": [
    " #   3) WAP to find maximum number from given two numbers using function."
   ]
  },
  {
   "cell_type": "code",
   "execution_count": 68,
   "metadata": {},
   "outputs": [
    {
     "name": "stdout",
     "output_type": "stream",
     "text": [
      "enter the 1st number :23\n",
      "enter the 2nd number :12\n",
      "The maximum number is : 23.0\n"
     ]
    }
   ],
   "source": [
    "def MaxFromTwo(a,b):\n",
    "    print(\"The maximum number is :\",max(a,b))\n",
    "a = float(input(\"enter the 1st number :\"))\n",
    "b = float(input(\"enter the 2nd number :\"))\n",
    "MaxFromTwo(a,b)"
   ]
  },
  {
   "cell_type": "markdown",
   "metadata": {},
   "source": [
    "### 04) WAP that defines a function which returns 1 if the number is prime otherwise return 0."
   ]
  },
  {
   "cell_type": "code",
   "execution_count": 70,
   "metadata": {},
   "outputs": [
    {
     "name": "stdout",
     "output_type": "stream",
     "text": [
      "enter the number :27\n",
      "0\n",
      "1\n"
     ]
    }
   ],
   "source": [
    "def PrimeOrNot(number):\n",
    "    for i in range(2,number):\n",
    "        if(number == 1):\n",
    "            print(\"0\")\n",
    "            break\n",
    "        elif(number == 2):\n",
    "            print(\"1\")\n",
    "            break\n",
    "        elif(number%i==0):\n",
    "            print(\"0\")\n",
    "            break\n",
    "    else:\n",
    "        print(\"1\")\n",
    "number = int(input(\"enter the number :\"))\n",
    "PrimeOrNot(number)\n",
    "PrimeOrNot(29)\n"
   ]
  },
  {
   "cell_type": "markdown",
   "metadata": {},
   "source": [
    "### 05) Write a function called primes that takes an integer value as an argument and returns a list of all prime numbers up to that number."
   ]
  },
  {
   "cell_type": "code",
   "execution_count": 68,
   "metadata": {},
   "outputs": [
    {
     "name": "stdout",
     "output_type": "stream",
     "text": [
      "Enter the number :19\n",
      "[2, 3, 5, 7, 11, 13, 17, 19]\n"
     ]
    }
   ],
   "source": [
    "def Primes(number):\n",
    "    primeNumbers = []\n",
    "    for i in range(2,number+1):\n",
    "        for j in range(2,i):\n",
    "            if(i%j==0):\n",
    "                break\n",
    "        else:\n",
    "            primeNumbers.append(i)\n",
    "    print(primeNumbers)\n",
    "number = int(input(\"Enter the number :\"))\n",
    "Primes(number)"
   ]
  },
  {
   "cell_type": "markdown",
   "metadata": {},
   "source": [
    "### 06) WAP to generate Fibonacci series of N given number using function name fibbo. (e.g. 0 1 1 2 3 5 8...)"
   ]
  },
  {
   "cell_type": "code",
   "execution_count": 35,
   "metadata": {},
   "outputs": [
    {
     "name": "stdout",
     "output_type": "stream",
     "text": [
      "enter the number :9\n",
      "[0, 1, 1, 2, 3, 5, 8, 13, 21]\n"
     ]
    }
   ],
   "source": [
    "def Fibonacci(number):\n",
    "    fibo = [0,1]\n",
    "    answer =[]\n",
    "    for i in range(0,number-2):\n",
    "        temp = fibo[i]+fibo[i+1]\n",
    "        fibo.append(temp)\n",
    "    print(fibo)\n",
    "number = int(input(\"enter the number :\"))\n",
    "Fibonacci(number)"
   ]
  },
  {
   "cell_type": "markdown",
   "metadata": {},
   "source": [
    "### 07) WAP to find the factorial of a given number using recursion."
   ]
  },
  {
   "cell_type": "code",
   "execution_count": 24,
   "metadata": {},
   "outputs": [
    {
     "name": "stdout",
     "output_type": "stream",
     "text": [
      "enter the number :5\n"
     ]
    },
    {
     "data": {
      "text/plain": [
       "120"
      ]
     },
     "execution_count": 24,
     "metadata": {},
     "output_type": "execute_result"
    }
   ],
   "source": [
    "def Factorial(number):\n",
    "    if(number==1 or number == 0):\n",
    "        return 1\n",
    "    else:\n",
    "        return(number*(Factorial(number-1)))\n",
    "number = int(input(\"enter the number :\"))\n",
    "Factorial(number)"
   ]
  },
  {
   "cell_type": "markdown",
   "metadata": {},
   "source": [
    "### 08) WAP to implement simple calculator using lamda function."
   ]
  },
  {
   "cell_type": "code",
   "execution_count": 103,
   "metadata": {},
   "outputs": [
    {
     "name": "stdout",
     "output_type": "stream",
     "text": [
      "enter the number :5\n",
      "enter the number :2\n",
      "The addition is : 7\n",
      "The subtraction is : 3\n",
      "The multiplication is : 10\n",
      "The division is : 2.5\n"
     ]
    }
   ],
   "source": [
    "add = lambda a,b : print(\"The addition is :\",a+b)\n",
    "sub = lambda a,b : print(\"The subtraction is :\",a-b)\n",
    "mul = lambda a,b : print(\"The multiplication is :\",a*b)\n",
    "div = lambda a,b : print(\"The division is :\",a/b)\n",
    "n1 = int(input(\"enter the number :\"))\n",
    "n2 = int(input(\"enter the number :\"))\n",
    "\n",
    "add(n1,n2)\n",
    "sub(n1,n2)\n",
    "mul(n1,n2)\n",
    "div(n1,n2)\n"
   ]
  },
  {
   "cell_type": "markdown",
   "metadata": {},
   "source": [
    "### 09)Write a Python program that accepts a hyphen-separated sequence of words as input and prints the words in a hyphen-separated sequence after sorting them alphabetically\n",
    "Sample Items : green-red-yellow-black-white <br>\n",
    "Expected Result : black-green-red-white-yellow"
   ]
  },
  {
   "cell_type": "code",
   "execution_count": 31,
   "metadata": {},
   "outputs": [
    {
     "name": "stdout",
     "output_type": "stream",
     "text": [
      "Enter the hyphen saperated string :mango-apple-banana-guava-grapes\n",
      "apple-banana-grapes-guava-mango\n"
     ]
    }
   ],
   "source": [
    "S = input(\"Enter the hyphen saperated string :\")\n",
    "sp = S.split(\"-\")\n",
    "sp.sort()\n",
    "answer = \"-\".join(sp)\n",
    "print(answer)"
   ]
  },
  {
   "cell_type": "markdown",
   "metadata": {},
   "source": [
    "### 10) Write a python program to implement all function arguments type\n",
    "Positional arguments <Br>\n",
    "Default argument <Br>\n",
    "Keyword arguments (named arguments) <Br>\n",
    "Arbitrary arguments (variable-length arguments args and kwargs)"
   ]
  },
  {
   "cell_type": "code",
   "execution_count": 57,
   "metadata": {},
   "outputs": [
    {
     "name": "stdout",
     "output_type": "stream",
     "text": [
      "enter the number :34\n",
      "enter the number :2\n",
      "36\n"
     ]
    }
   ],
   "source": [
    "# Positional arguments \n",
    "\n",
    "def additionOfTwo(a,b):\n",
    "    print(a+b)\n",
    "n1 = int(input(\"enter the number :\"))\n",
    "n2 = int(input(\"enter the number :\"))\n",
    "\n",
    "additionOfTwo(n1,n2)\n"
   ]
  },
  {
   "cell_type": "code",
   "execution_count": 60,
   "metadata": {},
   "outputs": [
    {
     "name": "stdout",
     "output_type": "stream",
     "text": [
      "enter the number :34\n",
      "enter the number :23\n",
      "64\n",
      "57\n"
     ]
    }
   ],
   "source": [
    "# Default argument \n",
    "\n",
    "def additionOfTwo(a,b=30):\n",
    "    print(a+b)\n",
    "n1 = int(input(\"enter the number :\"))\n",
    "n2 = int(input(\"enter the number :\"))\n",
    "\n",
    "additionOfTwo(n1)\n",
    "additionOfTwo(n1,n2)\n",
    "\n"
   ]
  },
  {
   "cell_type": "code",
   "execution_count": 64,
   "metadata": {},
   "outputs": [
    {
     "name": "stdout",
     "output_type": "stream",
     "text": [
      "enter the number :4\n",
      "enter the number :7\n",
      "3\n",
      "-3\n"
     ]
    }
   ],
   "source": [
    "# Keyword arguments (named arguments) \n",
    "\n",
    "def SubtractionOfTwo(a,b):\n",
    "    print(a-b)\n",
    "n1 = int(input(\"enter the number :\"))\n",
    "n2 = int(input(\"enter the number :\"))\n",
    "\n",
    "SubtractionOfTwo(a=n2,b=n1)\n",
    "SubtractionOfTwo(n1,n2)\n"
   ]
  },
  {
   "cell_type": "code",
   "execution_count": 71,
   "metadata": {},
   "outputs": [
    {
     "name": "stdout",
     "output_type": "stream",
     "text": [
      "20\n"
     ]
    }
   ],
   "source": [
    "# Arbitrary arguments (variable-length arguments args and kwargs)\n",
    "\n",
    "def Addition(*a):\n",
    "    sum=0\n",
    "    for i in a:\n",
    "        sum = sum+i\n",
    "    print(sum)\n",
    "Addition(3,5,12)"
   ]
  },
  {
   "cell_type": "markdown",
   "metadata": {},
   "source": [
    "### 01) WAP to calculate power of a number using recursion."
   ]
  },
  {
   "cell_type": "code",
   "execution_count": 20,
   "metadata": {},
   "outputs": [
    {
     "name": "stdout",
     "output_type": "stream",
     "text": [
      "enter the number :4\n",
      "enter the number :3\n",
      "64\n"
     ]
    }
   ],
   "source": [
    "def PowerOfNumber(number,power):\n",
    "    if(power==1):\n",
    "        return number\n",
    "    elif(power==0):\n",
    "        return 1\n",
    "    else:\n",
    "        return number*(PowerOfNumber(number,power-1))\n",
    "number = int(input(\"enter the number :\"))\n",
    "power = int(input(\"enter the number :\"))\n",
    "\n",
    "answer = PowerOfNumber(number,power)\n",
    "print(answer)\n",
    "    "
   ]
  },
  {
   "cell_type": "markdown",
   "metadata": {},
   "source": [
    "### 02) WAP to count digits of a number using recursion."
   ]
  },
  {
   "cell_type": "code",
   "execution_count": 1,
   "metadata": {},
   "outputs": [
    {
     "name": "stdout",
     "output_type": "stream",
     "text": [
      "enter the number :5641123\n",
      "7\n"
     ]
    }
   ],
   "source": [
    "count = 0\n",
    "def DigitOfNumber(number):\n",
    "    global count\n",
    "    if(number>=10):\n",
    "        count = count+1\n",
    "        return DigitOfNumber(number//10)\n",
    "    else:\n",
    "        return count+1 \n",
    "number = int(input(\"enter the number :\"))\n",
    "print(DigitOfNumber(number))"
   ]
  },
  {
   "cell_type": "markdown",
   "metadata": {},
   "source": [
    "### 03) WAP to reverse an integer number using recursion."
   ]
  },
  {
   "cell_type": "code",
   "execution_count": 58,
   "metadata": {},
   "outputs": [
    {
     "name": "stdout",
     "output_type": "stream",
     "text": [
      "enter the number :23456\n",
      "65432\n"
     ]
    }
   ],
   "source": [
    "temp = \"\"\n",
    "def reverseOfNumber(number):\n",
    "    global temp\n",
    "    if(number<10):\n",
    "        temp = temp + str(number)\n",
    "        return temp\n",
    "    else:\n",
    "        temp = temp + str(number%10)\n",
    "        return reverseOfNumber(number//10)\n",
    "number = int(input(\"enter the number :\"))\n",
    "print(reverseOfNumber(number))"
   ]
  },
  {
   "cell_type": "markdown",
   "metadata": {},
   "source": [
    "### 04) WAP to convert decimal number into binary using recursion."
   ]
  },
  {
   "cell_type": "code",
   "execution_count": 50,
   "metadata": {},
   "outputs": [
    {
     "name": "stdout",
     "output_type": "stream",
     "text": [
      "enter the number :10\n",
      "1010\n"
     ]
    }
   ],
   "source": [
    "temp = \"\"\n",
    "def decimalToBinary(number):\n",
    "    global temp\n",
    "    if(number<2):\n",
    "        temp = temp + str(number%2)\n",
    "        return temp[::-1]\n",
    "    else:\n",
    "        temp = temp + str(number%2)\n",
    "        return decimalToBinary(number//2)\n",
    "number = int(input(\"enter the number :\"))\n",
    "print(decimalToBinary(number))"
   ]
  },
  {
   "cell_type": "code",
   "execution_count": 51,
   "metadata": {},
   "outputs": [
    {
     "name": "stdout",
     "output_type": "stream",
     "text": [
      "enter the number :10\n",
      "[1, 0, 1, 0]\n"
     ]
    }
   ],
   "source": [
    "temp = []\n",
    "def decimalToBinary(number):\n",
    "    global temp\n",
    "    if(number<2):\n",
    "        temp.append(number%2)\n",
    "        return temp[::-1]\n",
    "    else:\n",
    "        temp.append(number%2)\n",
    "        return decimalToBinary(number//2)\n",
    "number = int(input(\"enter the number :\"))\n",
    "print(decimalToBinary(number))"
   ]
  }
 ],
 "metadata": {
  "kernelspec": {
   "display_name": "Python 3 (ipykernel)",
   "language": "python",
   "name": "python3"
  },
  "language_info": {
   "codemirror_mode": {
    "name": "ipython",
    "version": 3
   },
   "file_extension": ".py",
   "mimetype": "text/x-python",
   "name": "python",
   "nbconvert_exporter": "python",
   "pygments_lexer": "ipython3",
   "version": "3.9.13"
  }
 },
 "nbformat": 4,
 "nbformat_minor": 4
}
