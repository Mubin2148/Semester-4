{
 "cells": [
  {
   "cell_type": "markdown",
   "metadata": {},
   "source": [
    "<a href='https://www.darshan.ac.in/'> <img src='https://www.darshan.ac.in/Content/media/DU_Logo.svg' width=\"250\" height=\"300\"/></a>\n",
    "<pre>\n",
    "<center><b><h1>Python Programming - 2101CS405</b></center>\n",
    "<center><b><h1>Lab - 10</b></center>    \n",
    "<pre>"
   ]
  },
  {
   "cell_type": "code",
   "execution_count": null,
   "metadata": {},
   "outputs": [],
   "source": [
    "# Modules"
   ]
  },
  {
   "cell_type": "markdown",
   "metadata": {},
   "source": [
    "# A"
   ]
  },
  {
   "cell_type": "markdown",
   "metadata": {},
   "source": [
    "### 01) WAP to create Calculator module which defines functions like add, sub,mul and div. create another file that uses the Calculator module."
   ]
  },
  {
   "cell_type": "code",
   "execution_count": 4,
   "metadata": {},
   "outputs": [
    {
     "name": "stdout",
     "output_type": "stream",
     "text": [
      "Addition : 3\n",
      "Substraction : 3\n",
      "Multiplication : 8\n",
      "Division : 4.0\n"
     ]
    }
   ],
   "source": [
    "import Calc \n",
    "print(\"Addition :\",Calc.add(1,2))\n",
    "print(\"Substraction :\",Calc.sub(5,2))\n",
    "print(\"Multiplication :\",Calc.mul(4,2))\n",
    "print(\"Division :\",Calc.div(8,2))\n"
   ]
  },
  {
   "cell_type": "markdown",
   "metadata": {},
   "source": [
    "### 02) WAP to Pick a random character from a given String."
   ]
  },
  {
   "cell_type": "code",
   "execution_count": 9,
   "metadata": {},
   "outputs": [
    {
     "name": "stdout",
     "output_type": "stream",
     "text": [
      "e\n"
     ]
    }
   ],
   "source": [
    "import random\n",
    "a = \"Mubin seta\"\n",
    "print(random.choice(a))\n"
   ]
  },
  {
   "cell_type": "markdown",
   "metadata": {},
   "source": [
    "### 03) WAP to Pick a random element from a given list."
   ]
  },
  {
   "cell_type": "code",
   "execution_count": 15,
   "metadata": {},
   "outputs": [
    {
     "name": "stdout",
     "output_type": "stream",
     "text": [
      "Se\n"
     ]
    }
   ],
   "source": [
    "li = [13,\"Se\",3234]\n",
    "print(random.choice(li))\n",
    "\n"
   ]
  },
  {
   "cell_type": "markdown",
   "metadata": {},
   "source": [
    "### 04) WAP to demonstrate the use of the math module."
   ]
  },
  {
   "cell_type": "code",
   "execution_count": null,
   "metadata": {},
   "outputs": [],
   "source": [
    "import math\n",
    "print(\"e =\",math.e)\n",
    "print(\"pi =\",math.pi)\n",
    "print(\"tau =\",math.tau)\n",
    "print(\"ceil=\",math.ceil(5.6))\n",
    "print(\"floor=\",math.floor(5.6))\n",
    "print(\"factorial = \",math.factorial(5))\n",
    "print(\"gcd = \",math.gcd(15,30))\n",
    "print(\"lcm = \",math.lcm(15,30))\n",
    "print(\"absolute = \",math.fabs(-4))\n",
    "print(\"expo =\",math.exp(5))\n",
    "print(\"power = \",math.pow(2,3))\n",
    "print(\"log2 = \",math.log2(5))\n",
    "print(\"log10 = \",math.log10(5))\n",
    "print(\"sqrt= \",math.sqrt(9))\n",
    "print(\"sin = \",math.sin(90))\n",
    "print(\"cos = \",math.cos(90))\n",
    "print(\"tan = \",math.tan(90))\n",
    "print(\"degree = \",math.radians(90))\n",
    "print(\"radians = \",math.degrees(1.5707963267948966))\n",
    "print(\"gamma = \",math.gamma(4))\n"
   ]
  },
  {
   "cell_type": "markdown",
   "metadata": {},
   "source": [
    "### 05) WAP to demonstrate the use of date time module."
   ]
  },
  {
   "cell_type": "code",
   "execution_count": null,
   "metadata": {},
   "outputs": [],
   "source": [
    "import datetime\n",
    "\n",
    "##date class\n",
    "\n",
    "a = datetime.date(2003,9,13)\n",
    "print(\"My birthdate = \",a)\n",
    "print(\"today =\",datetime.date.today())\n",
    "print(\"year =\",a.year)\n",
    "print(\"month =\",a.month)\n",
    "print(\"day =\",a.day)"
   ]
  },
  {
   "cell_type": "code",
   "execution_count": null,
   "metadata": {},
   "outputs": [],
   "source": [
    "##time class\n",
    "\n",
    "a = datetime.time(2,45,0,9)\n",
    "print(a)\n",
    "print(a.hour)\n",
    "print(a.minute)\n",
    "print(a.second)\n",
    "print(a.microsec)"
   ]
  },
  {
   "cell_type": "code",
   "execution_count": null,
   "metadata": {},
   "outputs": [],
   "source": [
    "##datetime class \n",
    "\n",
    "a = datetime.datetime(2003,9,13,2,45,0,9)\n",
    "print(a)\n",
    "print(datetime.datetime.now())"
   ]
  },
  {
   "cell_type": "code",
   "execution_count": 3,
   "metadata": {},
   "outputs": [
    {
     "name": "stdout",
     "output_type": "stream",
     "text": [
      "2023-02-15 10:03:50.482505\n",
      "Monday\n"
     ]
    }
   ],
   "source": [
    "## time delta class \n",
    "import datetime\n",
    "today = datetime.datetime.now()\n",
    "t = today+datetime.timedelta(days = 2)\n",
    "print(t)\n",
    "print(today.strftime(\"%A\"))"
   ]
  },
  {
   "cell_type": "markdown",
   "metadata": {},
   "source": [
    "# B"
   ]
  },
  {
   "cell_type": "markdown",
   "metadata": {},
   "source": [
    "### 01) WAP to Roll dice in such a way that every time you get the same number."
   ]
  },
  {
   "cell_type": "code",
   "execution_count": 56,
   "metadata": {},
   "outputs": [
    {
     "name": "stdout",
     "output_type": "stream",
     "text": [
      "4\n"
     ]
    }
   ],
   "source": [
    "import random\n",
    "random.seed(1)\n",
    "a = random.randint(1,6)\n",
    "print(a)"
   ]
  },
  {
   "cell_type": "markdown",
   "metadata": {},
   "source": [
    "### 02) WAP to generate 3 random integers between 100 and 999 which is divisible by 5."
   ]
  },
  {
   "cell_type": "code",
   "execution_count": 57,
   "metadata": {},
   "outputs": [
    {
     "name": "stdout",
     "output_type": "stream",
     "text": [
      "880\n",
      "885\n",
      "705\n"
     ]
    }
   ],
   "source": [
    "count = 0\n",
    "while(count<3):\n",
    "    a = random.randint(100,999)\n",
    "    if(a%5==0):\n",
    "        print(a)\n",
    "        count += 1\n"
   ]
  },
  {
   "cell_type": "markdown",
   "metadata": {},
   "source": [
    "### 03) WAP to generate 100 random lottery tickets and pick two lucky tickets from it as a winner."
   ]
  },
  {
   "cell_type": "code",
   "execution_count": 66,
   "metadata": {},
   "outputs": [
    {
     "name": "stdout",
     "output_type": "stream",
     "text": [
      "[75, 45]\n"
     ]
    }
   ],
   "source": [
    "li = []\n",
    "for i in range(0,100):\n",
    "    li.append(random.randint(0,100))\n",
    "tickets = random.sample(li,2)\n",
    "print(tickets)\n",
    "    "
   ]
  },
  {
   "cell_type": "markdown",
   "metadata": {},
   "source": [
    "### 04) WAP to print current date and time in Python."
   ]
  },
  {
   "cell_type": "code",
   "execution_count": 70,
   "metadata": {},
   "outputs": [
    {
     "name": "stdout",
     "output_type": "stream",
     "text": [
      "2023-02-13 10:23:13.025000\n"
     ]
    }
   ],
   "source": [
    "import datetime\n",
    "print(datetime.datetime.now())"
   ]
  },
  {
   "cell_type": "markdown",
   "metadata": {},
   "source": [
    "### 05) Subtract a week (7 days) from a given date in Python."
   ]
  },
  {
   "cell_type": "code",
   "execution_count": 83,
   "metadata": {},
   "outputs": [
    {
     "name": "stdout",
     "output_type": "stream",
     "text": [
      "2023-02-06 10:35:21.202851\n"
     ]
    }
   ],
   "source": [
    "today = datetime.datetime.now()\n",
    "t = today+datetime.timedelta(days = -7)\n",
    "print(t)"
   ]
  },
  {
   "cell_type": "markdown",
   "metadata": {},
   "source": [
    "### 06) WAP to Calculate number of days between two given dates."
   ]
  },
  {
   "cell_type": "code",
   "execution_count": 96,
   "metadata": {},
   "outputs": [
    {
     "name": "stdout",
     "output_type": "stream",
     "text": [
      "229\n"
     ]
    }
   ],
   "source": [
    "a = datetime.date(2003,9,13)\n",
    "b = datetime.date(2004,4,29)\n",
    "diff = b - a\n",
    "print(diff.days)"
   ]
  },
  {
   "cell_type": "markdown",
   "metadata": {},
   "source": [
    "### 07) WAP to Find the day of the week of a given date."
   ]
  },
  {
   "cell_type": "code",
   "execution_count": 91,
   "metadata": {},
   "outputs": [
    {
     "name": "stdout",
     "output_type": "stream",
     "text": [
      "Thursday\n"
     ]
    }
   ],
   "source": [
    "import datetime\n",
    "date= datetime.date(2004,4,29)\n",
    "print(date.strftime(\"%A\"))"
   ]
  }
 ],
 "metadata": {
  "kernelspec": {
   "display_name": "Python 3 (ipykernel)",
   "language": "python",
   "name": "python3"
  },
  "language_info": {
   "codemirror_mode": {
    "name": "ipython",
    "version": 3
   },
   "file_extension": ".py",
   "mimetype": "text/x-python",
   "name": "python",
   "nbconvert_exporter": "python",
   "pygments_lexer": "ipython3",
   "version": "3.9.7"
  }
 },
 "nbformat": 4,
 "nbformat_minor": 4
}
