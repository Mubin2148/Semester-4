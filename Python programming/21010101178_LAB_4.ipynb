{
 "cells": [
  {
   "cell_type": "markdown",
   "metadata": {},
   "source": [
    "\n",
    "<a href='https://www.darshan.ac.in/'> <img src='https://www.darshan.ac.in/Content/media/DU_Logo.svg' width=\"250\" height=\"300\"/></a>\n",
    "<pre>\n",
    "<center><b><h1>Python Programming - 2101CS405</b></center>\n",
    "<center><b><h1>Lab - 4</b></center>    \n",
    "<pre>"
   ]
  },
  {
   "cell_type": "markdown",
   "metadata": {},
   "source": [
    "# String"
   ]
  },
  {
   "cell_type": "markdown",
   "metadata": {},
   "source": [
    "### 01) WAP to check given string is palindrome or not."
   ]
  },
  {
   "cell_type": "code",
   "execution_count": 78,
   "metadata": {},
   "outputs": [
    {
     "name": "stdout",
     "output_type": "stream",
     "text": [
      "enter the string :mam\n",
      "palindrome\n"
     ]
    }
   ],
   "source": [
    "s = input(\"enter the string :\")\n",
    "rev = s[::-1]\n",
    "if(s==rev):\n",
    "    print(\"palindrome\")\n",
    "else:\n",
    "    print(\"not palindrome\")"
   ]
  },
  {
   "cell_type": "markdown",
   "metadata": {},
   "source": [
    "### 02) WAP to reverse the words in given string."
   ]
  },
  {
   "cell_type": "code",
   "execution_count": 81,
   "metadata": {},
   "outputs": [
    {
     "name": "stdout",
     "output_type": "stream",
     "text": [
      "enter the string :darshan institute of engineering\n",
      "['engineering', 'of', 'institute', 'darshan']\n"
     ]
    }
   ],
   "source": [
    "s = input(\"enter the string :\")\n",
    "split = s.split(\" \")\n",
    "rev = split[::-1]\n",
    "print(rev)"
   ]
  },
  {
   "cell_type": "markdown",
   "metadata": {},
   "source": [
    "### 03) WAP to remove ith character from given string"
   ]
  },
  {
   "cell_type": "code",
   "execution_count": 87,
   "metadata": {},
   "outputs": [
    {
     "name": "stdout",
     "output_type": "stream",
     "text": [
      "enter the string :seta\n",
      "enter the character you want to remove :2\n",
      "se a\n"
     ]
    }
   ],
   "source": [
    "s= input(\"enter the string :\")\n",
    "i= int(input(\"enter the character you want to remove :\"))\n",
    "t1=s[0:i:1]\n",
    "t2=s[i+1:len(s)]\n",
    "print(t1,t2)"
   ]
  },
  {
   "cell_type": "markdown",
   "metadata": {},
   "source": [
    "### 04) WAP to find length of String without using len function."
   ]
  },
  {
   "cell_type": "code",
   "execution_count": 94,
   "metadata": {},
   "outputs": [
    {
     "name": "stdout",
     "output_type": "stream",
     "text": [
      "enter the String :mubin\n",
      "the length is : 5\n"
     ]
    }
   ],
   "source": [
    "s = input(\"enter the String :\")\n",
    "len = 0\n",
    "for i in s:\n",
    "    len = len +1\n",
    "print(\"the length is :\",len)"
   ]
  },
  {
   "cell_type": "markdown",
   "metadata": {},
   "source": [
    "### 05) WAP to print even length word in string."
   ]
  },
  {
   "cell_type": "code",
   "execution_count": 4,
   "metadata": {},
   "outputs": [
    {
     "name": "stdout",
     "output_type": "stream",
     "text": [
      "enter the string :odd even odd even\n",
      "even\n",
      "even\n"
     ]
    }
   ],
   "source": [
    "s = input(\"enter the string :\")\n",
    "sp = s.split(\" \")\n",
    "for i in sp:\n",
    "    if(len(i)%2==0):\n",
    "        print(i)"
   ]
  },
  {
   "cell_type": "markdown",
   "metadata": {},
   "source": [
    "### 06) WAP to count numbers of vowels in given string."
   ]
  },
  {
   "cell_type": "code",
   "execution_count": 24,
   "metadata": {},
   "outputs": [
    {
     "name": "stdout",
     "output_type": "stream",
     "text": [
      "enter the string :vowels\n",
      "The number of vowels is : 2\n"
     ]
    }
   ],
   "source": [
    "s = input(\"enter the string :\")\n",
    "count=0\n",
    "for i in s:\n",
    "    if(i==\"a\" or i==\"e\" or i==\"i\" or i==\"o\" or i==\"u\"):\n",
    "        count = count+1\n",
    "print(\"The number of vowels is :\",count)\n"
   ]
  },
  {
   "cell_type": "markdown",
   "metadata": {},
   "source": [
    "### 07) WAP to convert given array to string."
   ]
  },
  {
   "cell_type": "code",
   "execution_count": 2,
   "metadata": {},
   "outputs": [
    {
     "name": "stdout",
     "output_type": "stream",
     "text": [
      "seta mubin 1 4.78473 \n"
     ]
    }
   ],
   "source": [
    "array = [\"seta\",\"mubin\",1,4.78473]\n",
    "s = \"\";\n",
    "for i in array :\n",
    "  s = s + str(i) + \" \";\n",
    "print(s);"
   ]
  },
  {
   "cell_type": "markdown",
   "metadata": {},
   "source": [
    "### 01) WAP to find out duplicate characters in given string."
   ]
  },
  {
   "cell_type": "code",
   "execution_count": 11,
   "metadata": {},
   "outputs": [
    {
     "name": "stdout",
     "output_type": "stream",
     "text": [
      "Enter the String : jupyter notebook\n",
      "{'o', 'e', 't'}\n"
     ]
    }
   ],
   "source": [
    "s = input(\"Enter the String : \")\n",
    "duplicate = []\n",
    "for i in s:\n",
    "    if s.count(i) > 1:\n",
    "        duplicate.append(i)\n",
    "        \n",
    "print(set(duplicate))"
   ]
  },
  {
   "cell_type": "markdown",
   "metadata": {},
   "source": [
    "### 02) WAP to capitalize the first and last character of each word in a string."
   ]
  },
  {
   "cell_type": "code",
   "execution_count": 6,
   "metadata": {},
   "outputs": [
    {
     "name": "stdout",
     "output_type": "stream",
     "text": [
      "Enter the string :seta mubin\n",
      "['Seta', 'Mubin']\n"
     ]
    }
   ],
   "source": [
    "s = input(\"Enter the string :\")\n",
    "sp = s.split(\" \")\n",
    "list =[]\n",
    "for i in sp:\n",
    "    list.append(i.title())\n",
    "print(list)"
   ]
  },
  {
   "cell_type": "markdown",
   "metadata": {},
   "source": [
    "### 03) WAP to find Maximum frequency character in String."
   ]
  },
  {
   "cell_type": "code",
   "execution_count": 6,
   "metadata": {},
   "outputs": [
    {
     "name": "stdout",
     "output_type": "stream",
     "text": [
      "Enter string : see the way\n",
      "e\n"
     ]
    }
   ],
   "source": [
    "s= input(\"Enter the string : \")\n",
    "\n",
    "f={}\n",
    "\n",
    "for i in s:\n",
    "    if i in f:\n",
    "        f[i]=f[i]+1\n",
    "    else:\n",
    "        f[i] = 1\n",
    "ans= max(f,key=f.get)\n",
    "\n",
    "print(ans)\n",
    "    "
   ]
  },
  {
   "cell_type": "markdown",
   "metadata": {},
   "source": [
    "### 04) WAP to find Minimum frequency character in String."
   ]
  },
  {
   "cell_type": "code",
   "execution_count": 7,
   "metadata": {},
   "outputs": [
    {
     "name": "stdout",
     "output_type": "stream",
     "text": [
      "Enter string : aaaabccdd\n",
      "aaaabccdd\n",
      "b\n"
     ]
    }
   ],
   "source": [
    "s= input(\"Enter the string : \")\n",
    "\n",
    "f={}\n",
    "\n",
    "for i in s:\n",
    "    if i in f:\n",
    "        f[i]=f[i]+1\n",
    "    else:\n",
    "        f[i] = 1\n",
    "ans= min(f,key=f.get)\n",
    "\n",
    "print(ans)"
   ]
  },
  {
   "cell_type": "markdown",
   "metadata": {},
   "source": [
    "### 05) WAP to check if a given string is binary string or not"
   ]
  },
  {
   "cell_type": "code",
   "execution_count": 17,
   "metadata": {},
   "outputs": [
    {
     "name": "stdout",
     "output_type": "stream",
     "text": [
      "enter the string: 010110\n",
      "it is a binary string\n"
     ]
    }
   ],
   "source": [
    "s=input('enter the string: ')\n",
    "flag=True\n",
    "for i in s:\n",
    "    if i!='0' and i!='1':\n",
    "        flag=False\n",
    "if flag:\n",
    "    print('it is a binary string')\n",
    "else:\n",
    "    print('it is not a binary string')"
   ]
  }
 ],
 "metadata": {
  "kernelspec": {
   "display_name": "Python 3 (ipykernel)",
   "language": "python",
   "name": "python3"
  },
  "language_info": {
   "codemirror_mode": {
    "name": "ipython",
    "version": 3
   },
   "file_extension": ".py",
   "mimetype": "text/x-python",
   "name": "python",
   "nbconvert_exporter": "python",
   "pygments_lexer": "ipython3",
   "version": "3.9.13"
  }
 },
 "nbformat": 4,
 "nbformat_minor": 4
}
