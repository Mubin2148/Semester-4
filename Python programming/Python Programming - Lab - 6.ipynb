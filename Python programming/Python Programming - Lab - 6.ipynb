{
 "cells": [
  {
   "cell_type": "markdown",
   "metadata": {},
   "source": [
    "<a href='https://www.darshan.ac.in/'> <img src='https://www.darshan.ac.in/Content/media/DU_Logo.svg' width=\"250\" height=\"300\"/></a>\n",
    "<pre>\n",
    "<center><b><h1>Python Programming - 2101CS405</b></center>\n",
    "<center><b><h1>Lab - 6</b></center>    \n",
    "<pre>"
   ]
  },
  {
   "cell_type": "markdown",
   "metadata": {},
   "source": [
    "# Tuples, dictionary, set"
   ]
  },
  {
   "cell_type": "markdown",
   "metadata": {},
   "source": [
    "# A"
   ]
  },
  {
   "cell_type": "markdown",
   "metadata": {},
   "source": [
    "### 01) WAP to sort python dictionary by key or value."
   ]
  },
  {
   "cell_type": "code",
   "execution_count": 12,
   "metadata": {},
   "outputs": [
    {
     "name": "stdout",
     "output_type": "stream",
     "text": [
      "{'Course': 'B-tech', 'Div': 'C', 'Name': 'Mubin', 'Rollno': 1}\n"
     ]
    }
   ],
   "source": [
    "# sorted by keys\n",
    "\n",
    "Dict = {\"Name\": \"Mubin\",\"Rollno\":1,\"Div\":\"C\",\"Course\":\"B-tech\"}\n",
    "list1 = list(Dict.keys())\n",
    "list1.sort()\n",
    "sorted_dict = { i: Dict[i] for i in list1}\n",
    "print(sorted_dict)\n"
   ]
  },
  {
   "cell_type": "code",
   "execution_count": 45,
   "metadata": {},
   "outputs": [
    {
     "data": {
      "text/plain": [
       "{'Rollno': '1', 'Course': 'B-tech', 'Div': 'C', 'Name': 'Mubin'}"
      ]
     },
     "execution_count": 45,
     "metadata": {},
     "output_type": "execute_result"
    }
   ],
   "source": [
    "# sorted by values\n",
    "\n",
    "Dict = {\"Name\": \"Mubin\",\"Rollno\":\"1\",\"Div\":\"C\",\"Course\":\"B-tech\"}\n",
    "dict(sorted(Dict.items() ,key = lambda x:x[1]))\n"
   ]
  },
  {
   "cell_type": "markdown",
   "metadata": {},
   "source": [
    "### 02) WAP to merge two dictionaries given by user."
   ]
  },
  {
   "cell_type": "code",
   "execution_count": 53,
   "metadata": {},
   "outputs": [
    {
     "name": "stdout",
     "output_type": "stream",
     "text": [
      "enter the size of dictionary 1:3\n",
      "enter the key :Name\n",
      "enter the value :Mubin\n",
      "enter the key :Sirname\n",
      "enter the value :Seta\n",
      "enter the key :Sem\n",
      "enter the value :4\n",
      "enter the size of dictionary 2:2\n",
      "enter the key :Batch\n",
      "enter the value :c-3\n",
      "enter the key :rolno\n",
      "enter the value :356\n",
      "{'Name': 'Mubin', 'Sirname': 'Seta', 'Sem': '4', 'Batch': 'c-3', 'rolno': '356'}\n"
     ]
    }
   ],
   "source": [
    "n = int(input(\"enter the size of dictionary 1:\"))\n",
    "dict1 = {}\n",
    "k = \"\"\n",
    "v = \"\"\n",
    "while(n>0):\n",
    "    k = input(\"enter the key :\")\n",
    "    v = input(\"enter the value :\")\n",
    "    dict1[k] = v\n",
    "    k = \"\"\n",
    "    v = \"\"\n",
    "    n = n-1\n",
    "\n",
    "n2 = int(input(\"enter the size of dictionary 2:\"))\n",
    "dict2 = {}\n",
    "k2 = \"\"\n",
    "v2 = \"\"\n",
    "while(n2>0):\n",
    "    k2 = input(\"enter the key :\")\n",
    "    v2 = input(\"enter the value :\")\n",
    "    dict2[k2] = v2\n",
    "    k2= \"\"\n",
    "    v2 = \"\"\n",
    "    n2 = n2-1\n",
    "    \n",
    "print(dict1 | dict2)\n"
   ]
  },
  {
   "cell_type": "markdown",
   "metadata": {},
   "source": [
    "### 03) WAP to find tuples that have all elements divisible by K from a list of tuples."
   ]
  },
  {
   "cell_type": "code",
   "execution_count": 62,
   "metadata": {},
   "outputs": [
    {
     "name": "stdout",
     "output_type": "stream",
     "text": [
      "enter the variable K :2\n",
      "[(8, 2, 2, 4)]\n"
     ]
    }
   ],
   "source": [
    "l1 = [(0,2,5,3),(45,21),(8,2,2,4),(6,1,9)]\n",
    "k = int(input(\"enter the variable K :\"))\n",
    "l2 = []\n",
    "for i in l1:\n",
    "    flag = True\n",
    "    for j in i:\n",
    "        if(j%k!=0):\n",
    "            flag=False\n",
    "    if(flag):\n",
    "        l2.append(i)\n",
    "print(l2)\n",
    "\n",
    "    "
   ]
  },
  {
   "cell_type": "markdown",
   "metadata": {},
   "source": [
    "### 04) WAP to find Tuples with positive elements in List of tuples."
   ]
  },
  {
   "cell_type": "code",
   "execution_count": 63,
   "metadata": {},
   "outputs": [
    {
     "name": "stdout",
     "output_type": "stream",
     "text": [
      "[(0, 2, 5, 3), (45, 21)]\n"
     ]
    }
   ],
   "source": [
    "l1 = [(0,2,5,3),(45,21),(8,-2,2,4),(6,-1,-9)]\n",
    "l2 = []\n",
    "for i in l1:\n",
    "    flag = True\n",
    "    for j in i:\n",
    "        if(j<0):\n",
    "            flag=False\n",
    "    if(flag):\n",
    "        l2.append(i)\n",
    "print(l2)\n"
   ]
  },
  {
   "cell_type": "markdown",
   "metadata": {},
   "source": [
    "### 05) WAP which perform union of two sets."
   ]
  },
  {
   "cell_type": "code",
   "execution_count": 65,
   "metadata": {},
   "outputs": [
    {
     "name": "stdout",
     "output_type": "stream",
     "text": [
      "{32, 1, 2, 34, 4, 673, 6, 5, 42}\n"
     ]
    }
   ],
   "source": [
    "set1 = {2,4,6,32,4}\n",
    "set2 = {6,42,1,34,5,673,2}\n",
    "set3 = set1.union(set2)\n",
    "print(set3)"
   ]
  },
  {
   "cell_type": "markdown",
   "metadata": {},
   "source": [
    "# B"
   ]
  },
  {
   "cell_type": "markdown",
   "metadata": {},
   "source": [
    "### 01) WAP to convert binary tuple into integer."
   ]
  },
  {
   "cell_type": "code",
   "execution_count": null,
   "metadata": {},
   "outputs": [],
   "source": [
    "tup=(1,0,1)\n",
    "l1=list(map(str,tup))\n",
    "string=''.join(l1)\n",
    "decimal=int(string,2)\n",
    "print(decimal)"
   ]
  },
  {
   "cell_type": "markdown",
   "metadata": {},
   "source": [
    "### 02) WAP to count frequency in list by dictionary."
   ]
  },
  {
   "cell_type": "code",
   "execution_count": null,
   "metadata": {},
   "outputs": [],
   "source": [
    "l1=['a','d','a','a','c','a','b','c']\n",
    "dic={}\n",
    "for i in l1:\n",
    "    if(i in dic):\n",
    "        dic[i]+=1\n",
    "    else:\n",
    "        dic[i]=1\n",
    "print(dic)"
   ]
  },
  {
   "cell_type": "markdown",
   "metadata": {},
   "source": [
    "### 03) WAP to remove all the duplicate words from the list using dictionary."
   ]
  },
  {
   "cell_type": "code",
   "execution_count": null,
   "metadata": {},
   "outputs": [],
   "source": [
    "l1=['abc','def','abc','abc','cde','abc','bcd','cde']\n",
    "dic={}\n",
    "for i in l1:\n",
    "    if(i in dic):\n",
    "        dic[i]+=1\n",
    "    else:\n",
    "        dic[i]=1\n",
    "l2=[]\n",
    "for i in dic.items():\n",
    "    l2.append(i[0])\n",
    "print(l2)"
   ]
  }
 ],
 "metadata": {
  "kernelspec": {
   "display_name": "Python 3 (ipykernel)",
   "language": "python",
   "name": "python3"
  },
  "language_info": {
   "codemirror_mode": {
    "name": "ipython",
    "version": 3
   },
   "file_extension": ".py",
   "mimetype": "text/x-python",
   "name": "python",
   "nbconvert_exporter": "python",
   "pygments_lexer": "ipython3",
   "version": "3.9.7"
  }
 },
 "nbformat": 4,
 "nbformat_minor": 4
}
