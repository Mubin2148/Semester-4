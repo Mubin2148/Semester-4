{
 "cells": [
  {
   "cell_type": "markdown",
   "metadata": {},
   "source": [
    "<a href='https://www.darshan.ac.in/'> <img src='https://www.darshan.ac.in/Content/media/DU_Logo.svg' width=\"250\" height=\"300\"/></a>\n",
    "<pre>\n",
    "<center><b><h1>Python Programming - 2101CS405</b></center>\n",
    "<center><b><h1>Lab - 9</b></center>    \n",
    "<pre>"
   ]
  },
  {
   "cell_type": "markdown",
   "metadata": {},
   "source": [
    "# Exception Handling"
   ]
  },
  {
   "cell_type": "markdown",
   "metadata": {},
   "source": [
    "# A"
   ]
  },
  {
   "cell_type": "markdown",
   "metadata": {},
   "source": [
    "### 01) WAP to handle divide by zero exception."
   ]
  },
  {
   "cell_type": "code",
   "execution_count": 3,
   "metadata": {},
   "outputs": [
    {
     "name": "stdout",
     "output_type": "stream",
     "text": [
      "enter the number 1:4\n",
      "enter the number 2:0\n",
      "Second number is 0\n"
     ]
    }
   ],
   "source": [
    "n1 = int(input(\"enter the number 1:\"))\n",
    "n2 = int(input(\"enter the number 2:\"))\n",
    "try:\n",
    "    print(\"the division is :\",n1/n2)\n",
    "except ZeroDivisionError:\n",
    "    print(\"Second number is 0\")\n"
   ]
  },
  {
   "cell_type": "markdown",
   "metadata": {},
   "source": [
    "### 02)  Write a Python program that inputs a number and generates an error message if it is not a number."
   ]
  },
  {
   "cell_type": "code",
   "execution_count": 5,
   "metadata": {},
   "outputs": [
    {
     "name": "stdout",
     "output_type": "stream",
     "text": [
      "enter the number :seta\n",
      "Please enter a number\n"
     ]
    }
   ],
   "source": [
    "try:\n",
    "    n = int(input(\"enter the number :\"))\n",
    "    print(n)\n",
    "except ValueError:\n",
    "    print(\"Please enter a number\")"
   ]
  },
  {
   "cell_type": "markdown",
   "metadata": {},
   "source": [
    "### 03) WAP to handle file not found Exception"
   ]
  },
  {
   "cell_type": "code",
   "execution_count": 6,
   "metadata": {},
   "outputs": [
    {
     "name": "stdout",
     "output_type": "stream",
     "text": [
      "File doesn't exist\n"
     ]
    }
   ],
   "source": [
    "try:\n",
    "    f = open(\"wer.txt\")\n",
    "    lines = f.readlines()\n",
    "    print(len(lines))\n",
    "except FileNotFoundError:\n",
    "    print(\"File doesn't exist\")"
   ]
  },
  {
   "cell_type": "markdown",
   "metadata": {},
   "source": [
    "### 04) WAP to handle type Exception."
   ]
  },
  {
   "cell_type": "code",
   "execution_count": 18,
   "metadata": {},
   "outputs": [
    {
     "name": "stdout",
     "output_type": "stream",
     "text": [
      "enter the number 1:4\n",
      "enter the number 1:s\n",
      "Please enter the same type value\n"
     ]
    }
   ],
   "source": [
    "n = int(input(\"enter the number 1:\"))\n",
    "s = input(\"enter the number 1:\")\n",
    "try:\n",
    "    result = s+n\n",
    "    print(result)\n",
    "except TypeError:\n",
    "    print(\"Please enter the same type value\")"
   ]
  },
  {
   "cell_type": "markdown",
   "metadata": {},
   "source": [
    "### 05) WAP to demonstrate valueError and indexError with example."
   ]
  },
  {
   "cell_type": "code",
   "execution_count": 59,
   "metadata": {},
   "outputs": [
    {
     "name": "stdout",
     "output_type": "stream",
     "text": [
      "enter the number :er\n",
      "Please enter a number\n"
     ]
    }
   ],
   "source": [
    "try:\n",
    "    n = int(input(\"enter the number :\"))\n",
    "    print(n)\n",
    "except ValueError:\n",
    "    print(\"Please enter a number\")"
   ]
  },
  {
   "cell_type": "code",
   "execution_count": 20,
   "metadata": {},
   "outputs": [
    {
     "name": "stdout",
     "output_type": "stream",
     "text": [
      "Enter the index number :7\n",
      "Please enter valid index\n"
     ]
    }
   ],
   "source": [
    "li = [1,4,63,\"s\"]\n",
    "n = int(input(\"Enter the index number :\"))\n",
    "try:\n",
    "    print(li[n])\n",
    "except IndexError:\n",
    "    print(\"Please enter valid index\")\n",
    "    "
   ]
  },
  {
   "cell_type": "markdown",
   "metadata": {},
   "source": [
    "### 06) WAP to domonstrate else  and finally block."
   ]
  },
  {
   "cell_type": "code",
   "execution_count": 58,
   "metadata": {},
   "outputs": [
    {
     "name": "stdout",
     "output_type": "stream",
     "text": [
      "enter the number 1:5\n",
      "enter the number 2:0\n",
      "Second number is 0\n",
      "permanent\n"
     ]
    }
   ],
   "source": [
    "n1 = int(input(\"enter the number 1:\"))\n",
    "n2 = int(input(\"enter the number 2:\"))\n",
    "try:\n",
    "    c = n1/n2\n",
    "except ZeroDivisionError:\n",
    "    print(\"Second number is 0\")\n",
    "else:\n",
    "    print(c)\n",
    "finally:\n",
    "    print(\"permanent\")"
   ]
  },
  {
   "cell_type": "markdown",
   "metadata": {},
   "source": [
    "### 07) Create a short program that prompts the user for a list of grades separated by commas. Split the string into individual grades and use a list comprehension to convert each string to an integer. You should use a try statement to inform the user when the values they entered cannot be converted."
   ]
  },
  {
   "cell_type": "code",
   "execution_count": 28,
   "metadata": {},
   "outputs": [
    {
     "name": "stdout",
     "output_type": "stream",
     "text": [
      "enter the grades comma seperated :s,r,e,s\n",
      "grades can't convert to int\n"
     ]
    }
   ],
   "source": [
    "s = input(\"enter the grades comma seperated :\")\n",
    "sp = s.split(\",\")\n",
    "try:\n",
    "    lis = [int(i) for i in sp]\n",
    "    print(lis)\n",
    "except ValueError:\n",
    "    print(\"grades can't convert to int\")"
   ]
  },
  {
   "cell_type": "markdown",
   "metadata": {},
   "source": []
  },
  {
   "cell_type": "markdown",
   "metadata": {},
   "source": [
    "# B"
   ]
  },
  {
   "cell_type": "markdown",
   "metadata": {},
   "source": [
    "### 01) WAP to Raising User Generated Exception."
   ]
  },
  {
   "cell_type": "code",
   "execution_count": null,
   "metadata": {},
   "outputs": [],
   "source": [
    "try:\n",
    "    n = int(input(\"Enter balance :\"))\n",
    "    if(n<0):\n",
    "        raise ValueError\n",
    "except ValueError:\n",
    "    print(\"Enter positive balance\")\n",
    "else:\n",
    "    print(n)\n",
    "    "
   ]
  },
  {
   "cell_type": "markdown",
   "metadata": {},
   "source": [
    "### 02) WAP to raise your custom Exception."
   ]
  },
  {
   "cell_type": "code",
   "execution_count": 54,
   "metadata": {},
   "outputs": [
    {
     "name": "stdout",
     "output_type": "stream",
     "text": [
      "Enter the number :09\n",
      "you are not eligible\n"
     ]
    }
   ],
   "source": [
    "class underAge(Exception):\n",
    "    pass\n",
    "try:\n",
    "    n = int(input(\"Enter the number :\"))\n",
    "    if(n<18):\n",
    "        raise underAge\n",
    "except underAge:\n",
    "    print(\"you are not eligible\")\n",
    "else:\n",
    "    print(\"You are eligible\")"
   ]
  }
 ],
 "metadata": {
  "kernelspec": {
   "display_name": "Python 3 (ipykernel)",
   "language": "python",
   "name": "python3"
  },
  "language_info": {
   "codemirror_mode": {
    "name": "ipython",
    "version": 3
   },
   "file_extension": ".py",
   "mimetype": "text/x-python",
   "name": "python",
   "nbconvert_exporter": "python",
   "pygments_lexer": "ipython3",
   "version": "3.9.7"
  }
 },
 "nbformat": 4,
 "nbformat_minor": 4
}
