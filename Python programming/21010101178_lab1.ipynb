{
 "cells": [
  {
   "cell_type": "markdown",
   "metadata": {},
   "source": [
    "<a href='https://www.darshan.ac.in/'> <img src='https://www.darshan.ac.in/Content/media/DU_Logo.svg' width=\"250\" height=\"300\"/></a>\n",
    "<pre>\n",
    "<center><b><h1>Python Programming - 2101CS405</b></center>\n",
    "<center><b><h1>Lab - 1</b></center>    \n",
    "<pre>"
   ]
  },
  {
   "cell_type": "markdown",
   "metadata": {},
   "source": [
    "### 01) WAP to print “Hello World”"
   ]
  },
  {
   "cell_type": "code",
   "execution_count": 1,
   "metadata": {},
   "outputs": [
    {
     "name": "stdout",
     "output_type": "stream",
     "text": [
      "Hello World\n"
     ]
    }
   ],
   "source": [
    "print(\"Hello World\")"
   ]
  },
  {
   "cell_type": "markdown",
   "metadata": {},
   "source": [
    "### 02) WAP to print your address i) using single print ii) using multiple print"
   ]
  },
  {
   "cell_type": "code",
   "execution_count": 4,
   "metadata": {},
   "outputs": [
    {
     "name": "stdout",
     "output_type": "stream",
     "text": [
      "Shakti chawk\n",
      "Phoolgali\n"
     ]
    }
   ],
   "source": [
    "print(\"Shakti chawk\")\n",
    "print(\"Phoolgali\")"
   ]
  },
  {
   "cell_type": "markdown",
   "metadata": {},
   "source": [
    "### 03) WAP to print addition of 2 numbers (without input function)"
   ]
  },
  {
   "cell_type": "code",
   "execution_count": 5,
   "metadata": {},
   "outputs": [
    {
     "name": "stdout",
     "output_type": "stream",
     "text": [
      "50\n"
     ]
    }
   ],
   "source": [
    "a=20\n",
    "b= 30\n",
    "c=a+b\n",
    "print(c)"
   ]
  },
  {
   "cell_type": "markdown",
   "metadata": {},
   "source": [
    "### 04) WAP to calculate and print average of 2 numbers (without input function)"
   ]
  },
  {
   "cell_type": "code",
   "execution_count": 6,
   "metadata": {},
   "outputs": [
    {
     "name": "stdout",
     "output_type": "stream",
     "text": [
      "25.0\n"
     ]
    }
   ],
   "source": [
    "a=20\n",
    "b=30\n",
    "c=(a+b)/2\n",
    "print(c)"
   ]
  },
  {
   "cell_type": "markdown",
   "metadata": {},
   "source": [
    "### 05) WAP to add two number entered by user."
   ]
  },
  {
   "cell_type": "code",
   "execution_count": 7,
   "metadata": {},
   "outputs": [
    {
     "name": "stdout",
     "output_type": "stream",
     "text": [
      "enter the nummber 1 :23\n",
      "enter the nummber 2 :12\n",
      "35\n"
     ]
    }
   ],
   "source": [
    "a=int(input(\"enter the nummber 1 :\"))\n",
    "b=int(input(\"enter the nummber 2 :\"))\n",
    "c=a+b\n",
    "print(c)"
   ]
  },
  {
   "cell_type": "markdown",
   "metadata": {},
   "source": [
    "### 06) WAP to calculate simple interest."
   ]
  },
  {
   "cell_type": "code",
   "execution_count": 10,
   "metadata": {},
   "outputs": [
    {
     "name": "stdout",
     "output_type": "stream",
     "text": [
      "enter the amount :12\n",
      "enter the interst :1\n",
      "enter the time in year :2\n",
      "0.24\n"
     ]
    }
   ],
   "source": [
    "p=float(input(\"enter the amount :\"))\n",
    "r=float(input(\"enter the interst :\"))\n",
    "n=float(input(\"enter the time in year :\"))\n",
    "interest=(p*r*n)/100\n",
    "print(interest)"
   ]
  },
  {
   "cell_type": "markdown",
   "metadata": {},
   "source": [
    "### 07) WAP Calculate Area and Circumfrence of Circle"
   ]
  },
  {
   "cell_type": "code",
   "execution_count": 23,
   "metadata": {},
   "outputs": [
    {
     "name": "stdout",
     "output_type": "stream",
     "text": [
      "enter the radius :1\n",
      "area : 3.1415\n",
      "circumfrence : 6.283\n"
     ]
    }
   ],
   "source": [
    "pi=3.1415\n",
    "r=float(input(\"enter the radius :\"))\n",
    "area = (pi*r*r)\n",
    "circumfrence = 2*pi*r\n",
    "print(\"area :\",area)\n",
    "print(\"circumfrence :\",circumfrence)"
   ]
  },
  {
   "cell_type": "markdown",
   "metadata": {},
   "source": [
    "### 08) WAP to print Multiplication table of given number without using loops."
   ]
  },
  {
   "cell_type": "code",
   "execution_count": 14,
   "metadata": {},
   "outputs": [
    {
     "name": "stdout",
     "output_type": "stream",
     "text": [
      "enter the number :23\n",
      "23 * 1 =  23\n",
      "23 * 2 =  46\n",
      "23 * 3 =  69\n",
      "23 * 4 =  92\n",
      "23 * 5 =  115\n",
      "23 * 6 =  138\n",
      "23 * 7 =  161\n",
      "23 * 8 =  184\n",
      "23 * 9 =  207\n",
      "23 * 10 =  230\n"
     ]
    }
   ],
   "source": [
    "number = int(input(\"enter the number :\"))\n",
    "print(number,\"*\",\"1 = \",number*1)\n",
    "print(number,\"*\",\"2 = \",number*2)\n",
    "print(number,\"*\",\"3 = \",number*3)\n",
    "print(number,\"*\",\"4 = \",number*4)\n",
    "print(number,\"*\",\"5 = \",number*5)\n",
    "print(number,\"*\",\"6 = \",number*6)\n",
    "print(number,\"*\",\"7 = \",number*7)\n",
    "print(number,\"*\",\"8 = \",number*8)\n",
    "print(number,\"*\",\"9 = \",number*9)\n",
    "print(number,\"*\",\"10 = \",number*10)"
   ]
  },
  {
   "cell_type": "markdown",
   "metadata": {},
   "source": [
    "### 09) WAP to calculate Area of Triangle (hint: a = h * b * 0.5)"
   ]
  },
  {
   "cell_type": "code",
   "execution_count": 15,
   "metadata": {},
   "outputs": [
    {
     "name": "stdout",
     "output_type": "stream",
     "text": [
      "enter the height :12\n",
      "enter the breadth :1\n",
      "The area is : 6.0\n"
     ]
    }
   ],
   "source": [
    "h=float(input(\"enter the height :\"))\n",
    "b=float(input(\"enter the breadth :\"))\n",
    "a=(h*b)/2\n",
    "print(\"The area is :\",a)"
   ]
  },
  {
   "cell_type": "markdown",
   "metadata": {},
   "source": [
    "### 10) WAP to convert degree to Fahrenheit and vice versa."
   ]
  },
  {
   "cell_type": "code",
   "execution_count": 20,
   "metadata": {},
   "outputs": [
    {
     "name": "stdout",
     "output_type": "stream",
     "text": [
      "enter the temp in celsius :12\n",
      "53.6\n"
     ]
    }
   ],
   "source": [
    "c=float(input(\"enter the temp in celsius :\"))\n",
    "f=(9/5)*c+32\n",
    "print(f)"
   ]
  },
  {
   "cell_type": "code",
   "execution_count": 21,
   "metadata": {},
   "outputs": [
    {
     "name": "stdout",
     "output_type": "stream",
     "text": [
      "enter the temp in fahrenheit :12\n",
      "-11.11111111111111\n"
     ]
    }
   ],
   "source": [
    "f=float(input(\"enter the temp in fahrenheit :\"))\n",
    "c=((f-32)/1.8)\n",
    "print(c)"
   ]
  },
  {
   "cell_type": "markdown",
   "metadata": {},
   "source": [
    "### 11) WAP to calculate total marks and Percentage"
   ]
  },
  {
   "cell_type": "code",
   "execution_count": 24,
   "metadata": {},
   "outputs": [
    {
     "name": "stdout",
     "output_type": "stream",
     "text": [
      "enter the marks of sub1 :12\n",
      "enter the marks of sub2 :12\n",
      "enter the marks of sub3 :12\n",
      "total marks : 36.0\n",
      "percentage : 12.0\n"
     ]
    }
   ],
   "source": [
    "a= float(input(\"enter the marks of sub1 :\"))\n",
    "b= float(input(\"enter the marks of sub2 :\"))\n",
    "c= float(input(\"enter the marks of sub3 :\"))\n",
    "\n",
    "total = (a+b+c)\n",
    "percent = (a+b+c)/3\n",
    "print(\"total marks :\",total)\n",
    "print(\"percentage :\",percent)"
   ]
  },
  {
   "cell_type": "markdown",
   "metadata": {},
   "source": [
    "### 12) Compute distance between two points taking input from the user (Pythagorean Theorem)."
   ]
  },
  {
   "cell_type": "code",
   "execution_count": 25,
   "metadata": {},
   "outputs": [
    {
     "name": "stdout",
     "output_type": "stream",
     "text": [
      "enter the point1 x :1\n",
      "enter the point1 y :2\n",
      "enter the point2 x :3\n",
      "enter the point2 y:1\n",
      "the distance is : 2.23606797749979\n"
     ]
    }
   ],
   "source": [
    "x1=float(input(\"enter the point1 x :\"))\n",
    "y1=float(input(\"enter the point1 y :\"))\n",
    "x2=float(input(\"enter the point2 x :\"))\n",
    "y2=float(input(\"enter the point2 y:\"))\n",
    "\n",
    "d=(((x1-x2)**2)+((y1-y2)**2))**(0.5)\n",
    "\n",
    "print(\"the distance is :\",d)\n"
   ]
  },
  {
   "cell_type": "markdown",
   "metadata": {},
   "source": [
    "### 13) WAP to convert seconds into hours, minutes & seconds and print in HH:MM:SS\n",
    "[e.g. 10000 seconds mean 2:46:40 (2 Hours, 46 Minutes, 40Seconds)]"
   ]
  },
  {
   "cell_type": "code",
   "execution_count": 27,
   "metadata": {},
   "outputs": [
    {
     "name": "stdout",
     "output_type": "stream",
     "text": [
      "enter the seconds :10000\n",
      "2 : 46 : 40\n"
     ]
    }
   ],
   "source": [
    "sec= int(input(\"enter the seconds :\"))\n",
    "hour = sec//3600\n",
    "rem1=sec%3600\n",
    "minute= rem1//60\n",
    "second = rem1%60\n",
    "\n",
    "print(hour,\":\",minute,\":\",second)\n"
   ]
  },
  {
   "cell_type": "markdown",
   "metadata": {},
   "source": [
    "### 14) WAP to enter distance into kilometer and convert it into meter, feet,inches, and centimeter"
   ]
  },
  {
   "cell_type": "code",
   "execution_count": 29,
   "metadata": {},
   "outputs": [
    {
     "name": "stdout",
     "output_type": "stream",
     "text": [
      "enter distance in kilometers :1\n",
      "1.0  kilometers = 1000.0  meters\n",
      "1.0  kilometers = 3280.84  feets\n",
      "1.0  kilometers = 39370.1  inches\n",
      "1.0  kilometers = 100000.0  centimeters\n"
     ]
    }
   ],
   "source": [
    "distance = float(input(\"enter distance in kilometers :\"))\n",
    "meter = distance*1000\n",
    "feet = distance*3280.84\n",
    "inch = distance*39370.1\n",
    "centimeter = distance*100000\n",
    "\n",
    "print(distance,\" kilometers =\",meter,\" meters\")\n",
    "print(distance,\" kilometers =\",feet,\" feets\")\n",
    "print(distance,\" kilometers =\",inch,\" inches\")\n",
    "print(distance,\" kilometers =\",centimeter,\" centimeters\")"
   ]
  }
 ],
 "metadata": {
  "kernelspec": {
   "display_name": "Python 3 (ipykernel)",
   "language": "python",
   "name": "python3"
  },
  "language_info": {
   "codemirror_mode": {
    "name": "ipython",
    "version": 3
   },
   "file_extension": ".py",
   "mimetype": "text/x-python",
   "name": "python",
   "nbconvert_exporter": "python",
   "pygments_lexer": "ipython3",
   "version": "3.9.7"
  }
 },
 "nbformat": 4,
 "nbformat_minor": 4
}
