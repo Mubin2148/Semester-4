{
 "cells": [
  {
   "cell_type": "markdown",
   "metadata": {},
   "source": [
    "<a href='https://www.darshan.ac.in/'> <img src='https://www.darshan.ac.in/Content/media/DU_Logo.svg' width=\"250\" height=\"300\"/></a>\n",
    "<pre>\n",
    "<center><b><h1>Python Programming - 2101CS405</b></center>\n",
    "<center><b><h1>Lab - 12</b></center>    \n",
    "<pre>"
   ]
  },
  {
   "cell_type": "markdown",
   "metadata": {},
   "source": [
    "# OOP"
   ]
  },
  {
   "cell_type": "markdown",
   "metadata": {},
   "source": [
    "### 01) Write a Program to create a class by name Students, and initialize attributes like name, age, and grade while creating an object."
   ]
  },
  {
   "cell_type": "code",
   "execution_count": null,
   "metadata": {},
   "outputs": [],
   "source": []
  },
  {
   "cell_type": "code",
   "execution_count": 9,
   "metadata": {},
   "outputs": [
    {
     "name": "stdout",
     "output_type": "stream",
     "text": [
      "Name : Mubin\n",
      "Age : 20\n",
      "Grade : a+\n"
     ]
    }
   ],
   "source": [
    "class Student:\n",
    "    name = \"\"\n",
    "    age = 0\n",
    "    grade = \"a\"\n",
    "    def __init__(self,n,a,g):\n",
    "        self.name = n\n",
    "        self.age = a\n",
    "        self.grade = g\n",
    "    def printValues(self):\n",
    "        print(\"Name :\",self.name)\n",
    "        print(\"Age :\",self.age)\n",
    "        print(\"Grade :\",self.grade)\n",
    "obj = Student(\"Mubin\",20,\"a+\")\n",
    "obj.printValues()"
   ]
  },
  {
   "cell_type": "markdown",
   "metadata": {},
   "source": [
    "### 02) Create a class named Bank_Account with Account_No, User_Name, Email,Account_Type and Account_Balance data members. Also create a method GetAccountDetails() and DisplayAccountDetails(). Create main method to demonstrate the Bank_Account class."
   ]
  },
  {
   "cell_type": "code",
   "execution_count": 5,
   "metadata": {},
   "outputs": [
    {
     "name": "stdout",
     "output_type": "stream",
     "text": [
      "Enter account number :123\n",
      "Enter user name :mubin\n",
      "Enter your email :mubin12@gmail.com\n",
      "Enter account type :saving\n",
      "Enter account balance129090\n",
      "============================\n",
      "account no : 123\n",
      "user name : mubin\n",
      "email : mubin12@gmail.com\n",
      "account type : saving\n",
      "Account balance : 129090.0\n"
     ]
    }
   ],
   "source": [
    "class Bank_Account:\n",
    "    Account_no=0\n",
    "    User_name=\"\"\n",
    "    Email=\"a@b\"\n",
    "    Account_type= \"\"\n",
    "    Account_balance=0\n",
    "    \n",
    "    def GetAccountDetails(self):\n",
    "        a = int(input(\"Enter account number :\"))\n",
    "        u = input(\"Enter user name :\")\n",
    "        e = input(\"Enter your email :\")\n",
    "        t = input(\"Enter account type :\")\n",
    "        b = float(input(\"Enter account balance\"))\n",
    "        self.Account_no = a\n",
    "        self.User_name = u\n",
    "        self.Email = e\n",
    "        self.Account_type = t\n",
    "        self.Account_balance = b\n",
    "    \n",
    "    def DisplayAccountDetails(self):\n",
    "        print(\"============================\")\n",
    "        print(\"account no :\",self.Account_no)\n",
    "        print(\"user name :\",self.User_name)\n",
    "        print(\"email :\",self.Email)\n",
    "        print(\"account type :\",self.Account_type)\n",
    "        print(\"Account balance :\",self.Account_balance)\n",
    "    \n",
    "    def main(self):\n",
    "        self.GetAccountDetails()\n",
    "        self.DisplayAccountDetails()\n",
    "\n",
    "obj = Bank_Account()\n",
    "obj.main()\n",
    "        \n",
    "        \n",
    "        "
   ]
  },
  {
   "cell_type": "markdown",
   "metadata": {},
   "source": [
    "# 03) WAP to create Circle class with area and perimeter function to find area and perimeter of circle."
   ]
  },
  {
   "cell_type": "code",
   "execution_count": 10,
   "metadata": {},
   "outputs": [
    {
     "name": "stdout",
     "output_type": "stream",
     "text": [
      "Area : 28.26\n",
      "Perimeter : 18.84\n"
     ]
    }
   ],
   "source": [
    "class Circle:\n",
    "    r = 0\n",
    "    def __init__(self,r):\n",
    "        self.r = r\n",
    "    def area(self):\n",
    "        print(\"Area :\",3.14*self.r**2)\n",
    "    def perimeter(self):\n",
    "        print(\"Perimeter :\",2*3.14*self.r)\n",
    "    \n",
    "obj = Circle(3)\n",
    "obj.area()\n",
    "obj.perimeter()\n",
    "        \n",
    "        "
   ]
  },
  {
   "cell_type": "markdown",
   "metadata": {},
   "source": [
    "### 04) Create a class for employees that includes attributes such as name, age, salary, and methods to update and display employee information."
   ]
  },
  {
   "cell_type": "code",
   "execution_count": 11,
   "metadata": {},
   "outputs": [
    {
     "name": "stdout",
     "output_type": "stream",
     "text": [
      "Enter name :mubin\n",
      "Enter age :20\n",
      "Enter salary1200000\n",
      "============================\n",
      "name: mubin\n",
      "salary : 1200000.0\n",
      "age : 20\n"
     ]
    }
   ],
   "source": [
    "class Employee:\n",
    "    age = 0\n",
    "    salary = 0\n",
    "    name = \"\"\n",
    "    def update(self):\n",
    "        n = input(\"Enter name :\")\n",
    "        a = int(input(\"Enter age :\"))\n",
    "        s = float(input(\"Enter salary\"))\n",
    "        self.name = n\n",
    "        self.age = a\n",
    "        self.salary = s\n",
    "        \n",
    "    def display(self):\n",
    "        print(\"============================\")\n",
    "        print(\"name:\",self.name)\n",
    "        print(\"salary :\",self.salary)\n",
    "        print(\"age :\",self.age)\n",
    "obj = Employee()\n",
    "obj.update()\n",
    "obj.display()\n",
    "        \n",
    "        "
   ]
  },
  {
   "cell_type": "markdown",
   "metadata": {},
   "source": [
    "### 05) Create a bank account class with methods to deposit, withdraw, and check balance."
   ]
  },
  {
   "cell_type": "code",
   "execution_count": 16,
   "metadata": {},
   "outputs": [
    {
     "name": "stdout",
     "output_type": "stream",
     "text": [
      "enter deposit amount :2000\n",
      "enter withdrawal amount :3000\n",
      "insufficient balance\n",
      "2000.0\n"
     ]
    }
   ],
   "source": [
    "class BankAccount:\n",
    "    balance = 0\n",
    "    def deposit(self):\n",
    "        b = float(input(\"enter deposit amount :\"))\n",
    "        self.balance = self.balance + b\n",
    "    def withdraw(self):\n",
    "        w = float(input(\"enter withdrawal amount :\"))\n",
    "        if(w<=self.balance):\n",
    "            self.balance  = self.balance- w\n",
    "        else:\n",
    "            print(\"insufficient balance\")\n",
    "    def checkBalance(self):\n",
    "        print(self.balance)\n",
    "\n",
    "obj = BankAccount()\n",
    "obj.deposit()\n",
    "obj.withdraw()\n",
    "obj.checkBalance()"
   ]
  },
  {
   "cell_type": "markdown",
   "metadata": {},
   "source": [
    "### 06) Create a class for managing inventory that includes attributes such as item name, price, quantity, and methods to add, remove, and update items."
   ]
  },
  {
   "cell_type": "code",
   "execution_count": null,
   "metadata": {},
   "outputs": [],
   "source": []
  },
  {
   "cell_type": "markdown",
   "metadata": {},
   "source": [
    "### 09) Create a Class with instance attributes"
   ]
  },
  {
   "cell_type": "code",
   "execution_count": null,
   "metadata": {},
   "outputs": [],
   "source": []
  },
  {
   "cell_type": "markdown",
   "metadata": {},
   "source": [
    "### 07)\n",
    "Create one class student_kit <br>\n",
    "Within the student_kit class create one class attribute principal name ( Mr ABC ) <br>\n",
    "Create one attendance method and take input as number of days. <br>\n",
    "While creating student take input their name . <br>\n",
    "Create one certificate for each student by taking input of number of days present in class. <br>"
   ]
  },
  {
   "cell_type": "code",
   "execution_count": null,
   "metadata": {},
   "outputs": [],
   "source": []
  },
  {
   "cell_type": "markdown",
   "metadata": {},
   "source": [
    "### 08) Define Time class with hour and minute as data member. Also define addition method to add two time objects."
   ]
  },
  {
   "cell_type": "code",
   "execution_count": null,
   "metadata": {},
   "outputs": [],
   "source": []
  },
  {
   "cell_type": "markdown",
   "metadata": {},
   "source": [
    "### 09) WAP to demonstrate inheritance in python."
   ]
  },
  {
   "cell_type": "code",
   "execution_count": null,
   "metadata": {},
   "outputs": [],
   "source": []
  },
  {
   "cell_type": "markdown",
   "metadata": {},
   "source": [
    "### 10) Create a child class Bus that will inherit all of the variables and methods of the Vehicle class\n",
    "class Vehicle:\n",
    "\n",
    "    def __init__(self, name, max_speed, mileage):\n",
    "        self.name = name\n",
    "        self.max_speed = max_speed\n",
    "        self.mileage = mileage\n",
    "        \n",
    "Create a Bus object that will inherit all of the variables and methods of the parent Vehicle class and display it.        "
   ]
  },
  {
   "cell_type": "code",
   "execution_count": null,
   "metadata": {},
   "outputs": [],
   "source": []
  },
  {
   "cell_type": "markdown",
   "metadata": {},
   "source": [
    "### 11)  Create a class hierarchy for different types of animals, with a parent Animal class and child classes for specific animals like Cat, Dog, and Bird."
   ]
  },
  {
   "cell_type": "code",
   "execution_count": null,
   "metadata": {},
   "outputs": [],
   "source": []
  },
  {
   "cell_type": "markdown",
   "metadata": {},
   "source": [
    "### 12) Create a class hierarchy for different types of vehicles, with a parent Vehicle class and child classes for specific vehicles like Car, Truck, and Motorcycle."
   ]
  },
  {
   "cell_type": "code",
   "execution_count": null,
   "metadata": {},
   "outputs": [],
   "source": []
  },
  {
   "cell_type": "markdown",
   "metadata": {},
   "source": [
    "### 13)  Create a class hierarchy for different types of bank accounts, with a parent Account class and child classes for specific account types like Checking, Savings, and Credit."
   ]
  },
  {
   "cell_type": "code",
   "execution_count": null,
   "metadata": {},
   "outputs": [],
   "source": []
  },
  {
   "cell_type": "markdown",
   "metadata": {},
   "source": [
    "### 14) Create a Shape class with a draw method that is not implemented. Create three child classes Rectangle, Circle, and Triangle that implement the draw method with their respective drawing behaviors. Create a list of Shape objects that includes one instance of each child class, and then iterate through the list and call the draw method on each object."
   ]
  },
  {
   "cell_type": "code",
   "execution_count": null,
   "metadata": {},
   "outputs": [],
   "source": []
  },
  {
   "cell_type": "markdown",
   "metadata": {},
   "source": [
    "### 15) Create a Person class with a constructor that takes two arguments name and age. Create a child class Employee that inherits from Person and adds a new attribute salary. Override the __init__ method in Employee to call the parent class's __init__ method using the super keyword, and then initialize the salary attribute."
   ]
  },
  {
   "cell_type": "code",
   "execution_count": null,
   "metadata": {},
   "outputs": [],
   "source": []
  }
 ],
 "metadata": {
  "kernelspec": {
   "display_name": "Python 3 (ipykernel)",
   "language": "python",
   "name": "python3"
  },
  "language_info": {
   "codemirror_mode": {
    "name": "ipython",
    "version": 3
   },
   "file_extension": ".py",
   "mimetype": "text/x-python",
   "name": "python",
   "nbconvert_exporter": "python",
   "pygments_lexer": "ipython3",
   "version": "3.9.7"
  }
 },
 "nbformat": 4,
 "nbformat_minor": 4
}
