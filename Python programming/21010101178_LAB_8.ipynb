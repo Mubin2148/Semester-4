{
 "cells": [
  {
   "cell_type": "markdown",
   "metadata": {},
   "source": [
    "<a href='https://www.darshan.ac.in/'> <img src='https://www.darshan.ac.in/Content/media/DU_Logo.svg' width=\"250\" height=\"300\"/></a>\n",
    "<pre>\n",
    "<center><b><h1>Python Programming - 2101CS405</b></center>\n",
    "<center><b><h1>Lab - 8</b></center>    \n",
    "<pre>"
   ]
  },
  {
   "cell_type": "markdown",
   "metadata": {},
   "source": [
    "# File handling"
   ]
  },
  {
   "cell_type": "markdown",
   "metadata": {},
   "source": [
    "# A"
   ]
  },
  {
   "cell_type": "markdown",
   "metadata": {},
   "source": [
    "### 01) WAP to read entire file named abc.txt"
   ]
  },
  {
   "cell_type": "code",
   "execution_count": 57,
   "metadata": {},
   "outputs": [
    {
     "name": "stdout",
     "output_type": "stream",
     "text": [
      "Hello \n",
      "This is Program of lab 8\n",
      "line 3\n",
      "line 4\n",
      "line 5\n",
      "line 6\n",
      "line 7\n",
      "line 8\n",
      "line 9\n"
     ]
    }
   ],
   "source": [
    "f = open(\"abc.txt\")\n",
    "print(f.read())\n",
    "f.close()"
   ]
  },
  {
   "cell_type": "markdown",
   "metadata": {},
   "source": [
    "### 02) WAP to print program it self on console."
   ]
  },
  {
   "cell_type": "code",
   "execution_count": 6,
   "metadata": {},
   "outputs": [
    {
     "name": "stdout",
     "output_type": "stream",
     "text": [
      "['{\\n', ' \"cells\": [\\n', '  {\\n', '   \"cell_type\": \"markdown\",\\n', '   \"metadata\": {},\\n', '   \"source\": [\\n', '    \"<a href=\\'https://www.darshan.ac.in/\\'> <img src=\\'https://www.darshan.ac.in/Content/media/DU_Logo.svg\\' width=\\\\\"250\\\\\" height=\\\\\"300\\\\\"/></a>\\\\n\",\\n', '    \"<pre>\\\\n\",\\n', '    \"<center><b><h1>Python Programming - 2101CS405</b></center>\\\\n\",\\n', '    \"<center><b><h1>Lab - 8</b></center>    \\\\n\",\\n', '    \"<pre>\"\\n', '   ]\\n', '  },\\n', '  {\\n', '   \"cell_type\": \"markdown\",\\n', '   \"metadata\": {},\\n', '   \"source\": [\\n', '    \"# File handling\"\\n', '   ]\\n', '  },\\n', '  {\\n', '   \"cell_type\": \"markdown\",\\n', '   \"metadata\": {},\\n', '   \"source\": [\\n', '    \"# A\"\\n', '   ]\\n', '  },\\n', '  {\\n', '   \"cell_type\": \"markdown\",\\n', '   \"metadata\": {},\\n', '   \"source\": [\\n', '    \"### 01) WAP to read entire file named abc.txt\"\\n', '   ]\\n', '  },\\n', '  {\\n', '   \"cell_type\": \"code\",\\n', '   \"execution_count\": 5,\\n', '   \"metadata\": {},\\n', '   \"outputs\": [\\n', '    {\\n', '     \"name\": \"stdout\",\\n', '     \"output_type\": \"stream\",\\n', '     \"text\": [\\n', '      \"[\\'Hello \\\\\\\\n\\', \\'This is Program 1\\']\\\\n\"\\n', '     ]\\n', '    }\\n', '   ],\\n', '   \"source\": [\\n', '    \"f = open(\\\\\"abc.txt\\\\\")\\\\n\",\\n', '    \"print(f.readlines())\"\\n', '   ]\\n', '  },\\n', '  {\\n', '   \"cell_type\": \"markdown\",\\n', '   \"metadata\": {},\\n', '   \"source\": [\\n', '    \"### 02) WAP to print program it self on console.\"\\n', '   ]\\n', '  },\\n', '  {\\n', '   \"cell_type\": \"code\",\\n', '   \"execution_count\": null,\\n', '   \"metadata\": {},\\n', '   \"outputs\": [],\\n', '   \"source\": []\\n', '  },\\n', '  {\\n', '   \"cell_type\": \"markdown\",\\n', '   \"metadata\": {},\\n', '   \"source\": [\\n', '    \"### 03) WAP to read first 5 lines from the file named abc.txt\"\\n', '   ]\\n', '  },\\n', '  {\\n', '   \"cell_type\": \"code\",\\n', '   \"execution_count\": null,\\n', '   \"metadata\": {},\\n', '   \"outputs\": [],\\n', '   \"source\": []\\n', '  },\\n', '  {\\n', '   \"cell_type\": \"markdown\",\\n', '   \"metadata\": {},\\n', '   \"source\": [\\n', '    \"### 04) WAP to find the longest word in a file named abc.txt\"\\n', '   ]\\n', '  },\\n', '  {\\n', '   \"cell_type\": \"code\",\\n', '   \"execution_count\": null,\\n', '   \"metadata\": {},\\n', '   \"outputs\": [],\\n', '   \"source\": []\\n', '  },\\n', '  {\\n', '   \"cell_type\": \"markdown\",\\n', '   \"metadata\": {},\\n', '   \"source\": [\\n', '    \"### 05) WAP to find the size of the file named abc.txt\"\\n', '   ]\\n', '  },\\n', '  {\\n', '   \"cell_type\": \"code\",\\n', '   \"execution_count\": null,\\n', '   \"metadata\": {},\\n', '   \"outputs\": [],\\n', '   \"source\": []\\n', '  },\\n', '  {\\n', '   \"cell_type\": \"markdown\",\\n', '   \"metadata\": {},\\n', '   \"source\": [\\n', '    \"### 06) WAP to implement search function to search specific occurance of word in a given text file.\"\\n', '   ]\\n', '  },\\n', '  {\\n', '   \"cell_type\": \"code\",\\n', '   \"execution_count\": null,\\n', '   \"metadata\": {},\\n', '   \"outputs\": [],\\n', '   \"source\": []\\n', '  },\\n', '  {\\n', '   \"cell_type\": \"markdown\",\\n', '   \"metadata\": {},\\n', '   \"source\": [\\n', '    \"# B\"\\n', '   ]\\n', '  },\\n', '  {\\n', '   \"cell_type\": \"markdown\",\\n', '   \"metadata\": {},\\n', '   \"source\": [\\n', '    \"### 01) WAP to write first 100 prime numbers to a file named primenumbers.txt \\\\n\",\\n', '    \"(Note: each number should be in new line)\"\\n', '   ]\\n', '  },\\n', '  {\\n', '   \"cell_type\": \"code\",\\n', '   \"execution_count\": null,\\n', '   \"metadata\": {},\\n', '   \"outputs\": [],\\n', '   \"source\": []\\n', '  },\\n', '  {\\n', '   \"cell_type\": \"markdown\",\\n', '   \"metadata\": {},\\n', '   \"source\": [\\n', '    \"### 02) WAP to merge two files and write it in a new file.\"\\n', '   ]\\n', '  },\\n', '  {\\n', '   \"cell_type\": \"code\",\\n', '   \"execution_count\": null,\\n', '   \"metadata\": {},\\n', '   \"outputs\": [],\\n', '   \"source\": []\\n', '  },\\n', '  {\\n', '   \"cell_type\": \"markdown\",\\n', '   \"metadata\": {},\\n', '   \"source\": [\\n', '    \"### 03) WAP to encrypt a text file.\"\\n', '   ]\\n', '  },\\n', '  {\\n', '   \"cell_type\": \"code\",\\n', '   \"execution_count\": null,\\n', '   \"metadata\": {},\\n', '   \"outputs\": [],\\n', '   \"source\": []\\n', '  },\\n', '  {\\n', '   \"cell_type\": \"markdown\",\\n', '   \"metadata\": {},\\n', '   \"source\": [\\n', '    \"### 04) WAP to decrypt a previously encrypted file.\"\\n', '   ]\\n', '  },\\n', '  {\\n', '   \"cell_type\": \"code\",\\n', '   \"execution_count\": null,\\n', '   \"metadata\": {},\\n', '   \"outputs\": [],\\n', '   \"source\": []\\n', '  },\\n', '  {\\n', '   \"cell_type\": \"markdown\",\\n', '   \"metadata\": {},\\n', '   \"source\": [\\n', '    \"### 05) WAP to remove a word from text file.\"\\n', '   ]\\n', '  },\\n', '  {\\n', '   \"cell_type\": \"code\",\\n', '   \"execution_count\": null,\\n', '   \"metadata\": {},\\n', '   \"outputs\": [],\\n', '   \"source\": []\\n', '  }\\n', ' ],\\n', ' \"metadata\": {\\n', '  \"kernelspec\": {\\n', '   \"display_name\": \"Python 3 (ipykernel)\",\\n', '   \"language\": \"python\",\\n', '   \"name\": \"python3\"\\n', '  },\\n', '  \"language_info\": {\\n', '   \"codemirror_mode\": {\\n', '    \"name\": \"ipython\",\\n', '    \"version\": 3\\n', '   },\\n', '   \"file_extension\": \".py\",\\n', '   \"mimetype\": \"text/x-python\",\\n', '   \"name\": \"python\",\\n', '   \"nbconvert_exporter\": \"python\",\\n', '   \"pygments_lexer\": \"ipython3\",\\n', '   \"version\": \"3.9.7\"\\n', '  }\\n', ' },\\n', ' \"nbformat\": 4,\\n', ' \"nbformat_minor\": 4\\n', '}\\n']\n"
     ]
    }
   ],
   "source": [
    "f = open(\"Python Programming - Lab - 8.ipynb\")\n",
    "print(f.readlines())\n",
    "f.close()"
   ]
  },
  {
   "cell_type": "markdown",
   "metadata": {},
   "source": [
    "### 03) WAP to read first 5 lines from the file named abc.txt"
   ]
  },
  {
   "cell_type": "code",
   "execution_count": 44,
   "metadata": {},
   "outputs": [
    {
     "name": "stdout",
     "output_type": "stream",
     "text": [
      "['Hello \\n', 'This is Program of lab 8\\n', 'line 3\\n', 'line 4\\n', 'line 5\\n']\n"
     ]
    }
   ],
   "source": [
    "f = open(\"abc.txt\")\n",
    "print(f.readlines()[:5])\n",
    "f.close()"
   ]
  },
  {
   "cell_type": "markdown",
   "metadata": {},
   "source": [
    "# 04) WAP to find the longest word in a file named abc.txt"
   ]
  },
  {
   "cell_type": "code",
   "execution_count": 54,
   "metadata": {},
   "outputs": [
    {
     "name": "stdout",
     "output_type": "stream",
     "text": [
      "the longest word is : Program\n"
     ]
    }
   ],
   "source": [
    "f = open(\"abc.txt\")\n",
    "lines = f.readlines()\n",
    "largest  = \"\"\n",
    "for i in lines:\n",
    "    spl = i.split(\" \")\n",
    "    for j in spl:\n",
    "        if(len(j)>len(largest)):\n",
    "            largest = j\n",
    "print(\"the longest word is :\",largest)\n",
    "f.close()"
   ]
  },
  {
   "cell_type": "markdown",
   "metadata": {},
   "source": [
    "### 05) WAP to find the size of the file named abc.txt"
   ]
  },
  {
   "cell_type": "code",
   "execution_count": null,
   "metadata": {},
   "outputs": [],
   "source": [
    "ord\n",
    "chr"
   ]
  },
  {
   "cell_type": "markdown",
   "metadata": {},
   "source": [
    "### 06) WAP to implement search function to search specific occurance of word in a given text file."
   ]
  },
  {
   "cell_type": "code",
   "execution_count": 29,
   "metadata": {},
   "outputs": [
    {
     "name": "stdout",
     "output_type": "stream",
     "text": [
      "Enter the word :line\n",
      "Occurances of the line is : 7\n"
     ]
    }
   ],
   "source": [
    "f = open(\"abc.txt\")\n",
    "lines = f.read().replace(\"\\n\",\" \")\n",
    "count = 0\n",
    "search = input(\"Enter the word :\")\n",
    "sp = lines.split(\" \")\n",
    "for i in sp:\n",
    "    if(i == search):\n",
    "        count = count + 1\n",
    "if(count == 0):\n",
    "    print(\"Not yet\")\n",
    "else:\n",
    "    print(\"Occurances of the\",search,\"is :\",count)\n",
    "f.close()"
   ]
  },
  {
   "cell_type": "markdown",
   "metadata": {},
   "source": [
    "# 07)WAP to find the number of lines ,Words and characters in a file"
   ]
  },
  {
   "cell_type": "code",
   "execution_count": 31,
   "metadata": {},
   "outputs": [
    {
     "name": "stdout",
     "output_type": "stream",
     "text": [
      "The lines : 9\n",
      "The Words : 26\n",
      "The characters : 101\n"
     ]
    }
   ],
   "source": [
    "f = open(\"abc.txt\")\n",
    "lines = f.readlines()\n",
    "l =w=c=0\n",
    "for i in lines:\n",
    "    sp = i.split(\" \")\n",
    "    l += 1\n",
    "    w += len(sp)\n",
    "    c += len(i)\n",
    "print(\"The lines :\",l)\n",
    "print(\"The Words :\",w)\n",
    "print(\"The characters :\",c)\n",
    "f.close()"
   ]
  },
  {
   "cell_type": "markdown",
   "metadata": {},
   "source": [
    "# B"
   ]
  },
  {
   "cell_type": "markdown",
   "metadata": {},
   "source": [
    "### 01) WAP to write first 100 prime numbers to a file named primenumbers.txt \n",
    "(Note: each number should be in new line)"
   ]
  },
  {
   "cell_type": "code",
   "execution_count": 1,
   "metadata": {},
   "outputs": [],
   "source": [
    "def isPrime(n):\n",
    "    if(n<=1):\n",
    "        return False\n",
    "    if(n==2):\n",
    "        return True\n",
    "    for i in range(2,int(n**(1/2))+1):\n",
    "        if(n%i==0):\n",
    "            return False\n",
    "    return True\n",
    "f1 = open(\"primeNumbers.txt\",\"a+\")\n",
    "i=2\n",
    "count = 0\n",
    "while(count<101):\n",
    "    if(isPrime(i)):\n",
    "        f1.write(str(i)+\"\\n\")\n",
    "        count += 1\n",
    "    i += 1\n",
    "f1.close()\n",
    "    "
   ]
  },
  {
   "cell_type": "markdown",
   "metadata": {},
   "source": [
    "### 02) WAP to merge two files and write it in a new file."
   ]
  },
  {
   "cell_type": "code",
   "execution_count": null,
   "metadata": {},
   "outputs": [],
   "source": [
    "f1 = open(\"abc.txt\")\n",
    "f2 = open(\"primeNumbers.txt\")\n",
    "f3 = open(\"newFile.txt\",\"a+\")\n",
    "file1 = f1.read()\n",
    "file2 = f2.read()\n",
    "\n",
    "\n"
   ]
  },
  {
   "cell_type": "markdown",
   "metadata": {},
   "source": [
    "### 03) WAP to encrypt a text file."
   ]
  },
  {
   "cell_type": "code",
   "execution_count": null,
   "metadata": {},
   "outputs": [],
   "source": []
  },
  {
   "cell_type": "markdown",
   "metadata": {},
   "source": [
    "### 04) WAP to decrypt a previously encrypted file."
   ]
  },
  {
   "cell_type": "code",
   "execution_count": null,
   "metadata": {},
   "outputs": [],
   "source": []
  },
  {
   "cell_type": "markdown",
   "metadata": {},
   "source": [
    "### 05) WAP to remove a word from text file."
   ]
  },
  {
   "cell_type": "code",
   "execution_count": null,
   "metadata": {},
   "outputs": [],
   "source": []
  }
 ],
 "metadata": {
  "kernelspec": {
   "display_name": "Python 3 (ipykernel)",
   "language": "python",
   "name": "python3"
  },
  "language_info": {
   "codemirror_mode": {
    "name": "ipython",
    "version": 3
   },
   "file_extension": ".py",
   "mimetype": "text/x-python",
   "name": "python",
   "nbconvert_exporter": "python",
   "pygments_lexer": "ipython3",
   "version": "3.9.13"
  }
 },
 "nbformat": 4,
 "nbformat_minor": 4
}
